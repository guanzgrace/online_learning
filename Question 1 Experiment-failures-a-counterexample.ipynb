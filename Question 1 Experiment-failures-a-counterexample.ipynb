{
 "cells": [
  {
   "cell_type": "code",
   "execution_count": 1,
   "metadata": {},
   "outputs": [],
   "source": [
    "import cvxpy as cp\n",
    "import numpy as np\n",
    "import matplotlib.pyplot as plt\n",
    "import time"
   ]
  },
  {
   "cell_type": "markdown",
   "metadata": {},
   "source": [
    "# Set up variables"
   ]
  },
  {
   "cell_type": "code",
   "execution_count": 75,
   "metadata": {},
   "outputs": [],
   "source": [
    "# Problem data.\n",
    "m = 4\n",
    "n_values = np.arange(start=100, stop=1001, step=100)\n",
    "b = np.ones(m)"
   ]
  },
  {
   "cell_type": "code",
   "execution_count": 3,
   "metadata": {},
   "outputs": [],
   "source": [
    "# Number of times to solve the dual equation.\n",
    "num_dual_samples = 100\n",
    "\n",
    "# Number of times to solve the stochastic equation.\n",
    "num_stoc_samples = 10**5"
   ]
  },
  {
   "cell_type": "code",
   "execution_count": 4,
   "metadata": {},
   "outputs": [],
   "source": [
    "# Set random seed for reproducability.\n",
    "\n",
    "np.random.seed(23)"
   ]
  },
  {
   "cell_type": "code",
   "execution_count": 5,
   "metadata": {},
   "outputs": [],
   "source": [
    "coin_flips = np.random.randint(2, size=5)"
   ]
  },
  {
   "cell_type": "code",
   "execution_count": 36,
   "metadata": {},
   "outputs": [],
   "source": []
  },
  {
   "cell_type": "code",
   "execution_count": 84,
   "metadata": {},
   "outputs": [
    {
     "data": {
      "text/plain": [
       "array([[0., 0., 1., 0., 0.],\n",
       "       [0., 0., 0., 1., 0.],\n",
       "       [0., 0., 0., 0., 1.],\n",
       "       [1., 1., 0., 0., 0.]])"
      ]
     },
     "execution_count": 84,
     "metadata": {},
     "output_type": "execute_result"
    }
   ],
   "source": [
    "arr*"
   ]
  },
  {
   "cell_type": "code",
   "execution_count": 33,
   "metadata": {},
   "outputs": [],
   "source": []
  },
  {
   "cell_type": "code",
   "execution_count": 50,
   "metadata": {},
   "outputs": [
    {
     "data": {
      "text/plain": [
       "array([1, 0, 2, 0, 3])"
      ]
     },
     "execution_count": 50,
     "metadata": {},
     "output_type": "execute_result"
    }
   ],
   "source": [
    "coin_flips"
   ]
  },
  {
   "cell_type": "code",
   "execution_count": 61,
   "metadata": {},
   "outputs": [
    {
     "data": {
      "text/plain": [
       "array([array([[0],\n",
       "       [1],\n",
       "       [2],\n",
       "       [3]]),\n",
       "       array([[1],\n",
       "       [0],\n",
       "       [2],\n",
       "       [0],\n",
       "       [3]])], dtype=object)"
      ]
     },
     "execution_count": 61,
     "metadata": {},
     "output_type": "execute_result"
    }
   ],
   "source": [
    "np.array([np.arange(m)[:,None], coin_flips[:,None]])"
   ]
  },
  {
   "cell_type": "code",
   "execution_count": 69,
   "metadata": {},
   "outputs": [],
   "source": [
    "arr = np.zeros((4,5))\n",
    "coin_flips = np.random.randint(4, size=5)\n",
    "arr[coin_flips, np.arange(5)] = 1"
   ]
  },
  {
   "cell_type": "code",
   "execution_count": 70,
   "metadata": {},
   "outputs": [
    {
     "data": {
      "text/plain": [
       "array([[0., 0., 1., 0., 0.],\n",
       "       [0., 0., 0., 1., 0.],\n",
       "       [0., 0., 0., 0., 1.],\n",
       "       [1., 1., 0., 0., 0.]])"
      ]
     },
     "execution_count": 70,
     "metadata": {},
     "output_type": "execute_result"
    }
   ],
   "source": [
    "arr"
   ]
  },
  {
   "cell_type": "code",
   "execution_count": 66,
   "metadata": {},
   "outputs": [
    {
     "data": {
      "text/plain": [
       "array([1, 0, 2, 0, 3])"
      ]
     },
     "execution_count": 66,
     "metadata": {},
     "output_type": "execute_result"
    }
   ],
   "source": [
    "coin_flips"
   ]
  },
  {
   "cell_type": "code",
   "execution_count": 19,
   "metadata": {},
   "outputs": [],
   "source": [
    "\n",
    "    coin_flips = np.random.randint(100, size=num_stoc_samples)"
   ]
  },
  {
   "cell_type": "code",
   "execution_count": 20,
   "metadata": {},
   "outputs": [
    {
     "data": {
      "text/plain": [
       "array([52, 50, 31, ...,  1, 91, 10])"
      ]
     },
     "execution_count": 20,
     "metadata": {},
     "output_type": "execute_result"
    }
   ],
   "source": [
    "coin_flips"
   ]
  },
  {
   "cell_type": "markdown",
   "metadata": {},
   "source": [
    "# Solve for the stochastic program"
   ]
  },
  {
   "cell_type": "code",
   "execution_count": 97,
   "metadata": {},
   "outputs": [
    {
     "name": "stdout",
     "output_type": "stream",
     "text": [
      "Stochastic Program Results\n",
      "\n",
      "With n=100, iteration completed in 1.26 s\n",
      "[9.69567723e-01 9.71341578e-01 9.71314569e-01 4.80674844e-14]\n",
      "\n",
      "With n=200, iteration completed in 2.29 s\n",
      "[9.84970713e-01 9.85111612e-01 9.85670025e-01 3.31718554e-13]\n",
      "\n",
      "With n=300, iteration completed in 3.72 s\n",
      "[9.89855198e-01 9.89138848e-01 9.90478789e-01 7.82010730e-14]\n",
      "\n",
      "With n=400, iteration completed in 4.96 s\n",
      "[9.92801081e-01 9.92135694e-01 9.92950861e-01 7.33686279e-14]\n",
      "\n",
      "With n=500, iteration completed in 6.42 s\n",
      "[9.93573956e-01 9.94208815e-01 9.94649547e-01 1.29046579e-13]\n",
      "\n",
      "With n=600, iteration completed in 8.40 s\n",
      "[9.94949973e-01 9.94809833e-01 9.95021188e-01 1.33842375e-13]\n",
      "\n",
      "With n=700, iteration completed in 9.82 s\n",
      "[9.95871354e-01 9.95105308e-01 9.95754005e-01 1.73272321e-13]\n",
      "\n",
      "With n=800, iteration completed in 11.06 s\n",
      "[9.96276793e-01 9.96350101e-01 9.97292107e-01 3.69862454e-13]\n",
      "\n",
      "With n=900, iteration completed in 16.00 s\n",
      "[9.96212478e-01 9.96951257e-01 9.96525713e-01 8.91592753e-13]\n",
      "\n",
      "With n=1000, iteration completed in 17.33 s\n",
      "[9.97421154e-01 9.96726872e-01 9.96755505e-01 1.78800556e-12]\n"
     ]
    }
   ],
   "source": [
    "# Solve for the stochastic program.\n",
    "\n",
    "# This is deterministic.\n",
    "\n",
    "# From TA office hours: We cannot use the expectations\n",
    "# of A and pi instead of their samples of A and pi,\n",
    "# because we cannot exchange the function and inequality.\n",
    "# Therefore, we have to generate very many samples of A \n",
    "# and pi, and truly calculate the expectation.\n",
    "print(\"Stochastic Program Results\")\n",
    "\n",
    "# Create dictionary to store stochastic program results\n",
    "n_to_stochastic_p = dict()\n",
    "\n",
    "start = time.time()\n",
    "\n",
    "for n in n_values:\n",
    "    # Solve the stochastic problem.\n",
    "    d = b / n\n",
    "    \n",
    "    # Construct the stochastic problem.\n",
    "    p = cp.Variable(m)\n",
    "    \n",
    "    #coin_flip = np.random.choice([1, 0], p=[.5, .5])\n",
    "    #A = np.full((m, num_stoc_samples), coin_flip)\n",
    "    #coin_flips = np.random.randint(100, size=num_stoc_samples)\n",
    "    #A = np.tile(coin_flips, m).reshape((m,num_stoc_samples))\n",
    "    #A = np.zeros((m, num_stoc_samples))\n",
    "    #A[0] = coin_flips\n",
    "    #A[1] = 1-coin_flips\n",
    "    \n",
    "    A = np.zeros((m, num_stoc_samples))\n",
    "    coin_flips = np.random.randint(m-1, size=num_stoc_samples)\n",
    "    A[coin_flips, np.arange(num_stoc_samples)] = 1\n",
    "\n",
    "    pi = np.random.uniform(0, 1, num_stoc_samples)\n",
    "        \n",
    "    objective = cp.Minimize((d @ p) + (1/num_stoc_samples)*cp.sum(cp.maximum(0,pi - (np.transpose(A) @ p))))\n",
    "\n",
    "    constraints = [p >= 0]\n",
    "\n",
    "    prob = cp.Problem(objective, constraints)\n",
    "\n",
    "    # Solve the stochastic problem.\n",
    "    result = prob.solve()#verbose=True)\n",
    "    now = time.time()\n",
    "    print(\"\\nWith n=%d, iteration completed in %.2f s\" % (n, now - start))\n",
    "    print(p.value)\n",
    "    \n",
    "    n_to_stochastic_p[n] = p.value\n",
    "    "
   ]
  },
  {
   "cell_type": "code",
   "execution_count": 71,
   "metadata": {},
   "outputs": [
    {
     "data": {
      "text/plain": [
       "False"
      ]
     },
     "execution_count": 71,
     "metadata": {},
     "output_type": "execute_result"
    }
   ],
   "source": [
    "# helper method to help us confirm whether the\n",
    "# matrix is positive definite\n",
    "\n",
    "def is_pos_def(x):\n",
    "    return np.all(np.linalg.eigvals(x) > 0)\n",
    "\n",
    "coin_flip = np.random.choice([1, 0], p=[.5, .5])\n",
    "A = np.full((m, num_stoc_samples), coin_flip)\n",
    "\n",
    "coin_flips = np.random.randint(2, size=num_stoc_samples)\n",
    "A = np.tile(coin_flips, m).reshape((m,num_stoc_samples))\n",
    "\n",
    "\n",
    "coin_flips = np.random.randint(2, size=num_stoc_samples)\n",
    "#A = np.tile(coin_flips, m).reshape((m,num_stoc_samples))\n",
    "A = np.zeros((m, num_stoc_samples))\n",
    "A[0] = coin_flips\n",
    "A[1] = 1-coin_flips\n",
    "\n",
    "\n",
    "coin_flips = np.random.randint(100, size=num_stoc_samples)\n",
    "A = np.tile(coin_flips, m).reshape((m,num_stoc_samples))\n",
    "    \n",
    "    \n",
    "A = np.zeros((4,5))\n",
    "coin_flips = np.random.randint(4, size=5)\n",
    "A[coin_flips, np.arange(5)] = 1\n",
    "\n",
    "is_pos_def(A@np.transpose(A))"
   ]
  },
  {
   "cell_type": "code",
   "execution_count": 95,
   "metadata": {},
   "outputs": [
    {
     "data": {
      "text/plain": [
       "False"
      ]
     },
     "execution_count": 95,
     "metadata": {},
     "output_type": "execute_result"
    }
   ],
   "source": [
    "\n",
    "A = np.zeros((4,20))\n",
    "coin_flips = np.random.randint(3, size=20)\n",
    "A[coin_flips, np.arange(20)] = 1\n",
    "\n",
    "is_pos_def(A@np.transpose(A))"
   ]
  },
  {
   "cell_type": "code",
   "execution_count": 96,
   "metadata": {},
   "outputs": [
    {
     "data": {
      "text/plain": [
       "array([[ 6.,  0.,  0.,  0.],\n",
       "       [ 0.,  4.,  0.,  0.],\n",
       "       [ 0.,  0., 10.,  0.],\n",
       "       [ 0.,  0.,  0.,  0.]])"
      ]
     },
     "execution_count": 96,
     "metadata": {},
     "output_type": "execute_result"
    }
   ],
   "source": [
    "A@np.transpose(A)"
   ]
  },
  {
   "cell_type": "markdown",
   "metadata": {},
   "source": [
    "# Solve for the dual problem for various values of n"
   ]
  },
  {
   "cell_type": "code",
   "execution_count": 98,
   "metadata": {},
   "outputs": [
    {
     "name": "stdout",
     "output_type": "stream",
     "text": [
      "For n = 100\n",
      "Average of all dual solutions: [9.46310282e+00 9.49764029e+00 9.51637042e+00 3.89152487e-10]\n",
      "Expectation of L2 norm between p*n and p* is: 218.26\n",
      "m log m log log n / n for m=4 and n=100 is: 0.08\n",
      "Constant C is: 2577.348\n",
      "\n",
      "For n = 200\n",
      "Average of all dual solutions: [9.77339855e+00 9.77798542e+00 9.76105176e+00 4.07403671e-10]\n",
      "Expectation of L2 norm between p*n and p* is: 231.63\n",
      "m log m log log n / n for m=4 and n=200 is: 0.05\n",
      "Constant C is: 5010.388\n",
      "\n",
      "For n = 300\n",
      "Average of all dual solutions: [9.83554855e+00 9.85965915e+00 9.85630382e+00 4.40790082e-10]\n",
      "Expectation of L2 norm between p*n and p* is: 235.57\n",
      "m log m log log n / n for m=4 and n=300 is: 0.03\n",
      "Constant C is: 7319.654\n",
      "\n",
      "For n = 400\n",
      "Average of all dual solutions: [9.88680571e+00 9.89296306e+00 9.88507095e+00 4.44848413e-10]\n",
      "Expectation of L2 norm between p*n and p* is: 237.42\n",
      "m log m log log n / n for m=4 and n=400 is: 0.02\n",
      "Constant C is: 9566.062\n",
      "\n",
      "For n = 500\n",
      "Average of all dual solutions: [9.90801994e+00 9.91107079e+00 9.90953183e+00 5.17514525e-10]\n",
      "Expectation of L2 norm between p*n and p* is: 238.47\n",
      "m log m log log n / n for m=4 and n=500 is: 0.02\n",
      "Constant C is: 11769.661\n",
      "\n",
      "For n = 600\n",
      "Average of all dual solutions: [9.92522784e+00 9.92106282e+00 9.91298375e+00 5.36765715e-10]\n",
      "Expectation of L2 norm between p*n and p* is: 238.97\n",
      "m log m log log n / n for m=4 and n=600 is: 0.02\n",
      "Constant C is: 13933.014\n",
      "\n",
      "For n = 700\n",
      "Average of all dual solutions: [9.92624701e+00 9.93300701e+00 9.92550303e+00 3.65972122e-10]\n",
      "Expectation of L2 norm between p*n and p* is: 239.39\n",
      "m log m log log n / n for m=4 and n=700 is: 0.01\n",
      "Constant C is: 16077.189\n",
      "\n",
      "For n = 800\n",
      "Average of all dual solutions: [9.95034325e+00 9.93572324e+00 9.94813289e+00 5.48679741e-10]\n",
      "Expectation of L2 norm between p*n and p* is: 240.21\n",
      "m log m log log n / n for m=4 and n=800 is: 0.01\n",
      "Constant C is: 18241.309\n",
      "\n",
      "For n = 900\n",
      "Average of all dual solutions: [9.95002306e+00 9.94805111e+00 9.94989565e+00 4.70306559e-10]\n",
      "Expectation of L2 norm between p*n and p* is: 240.46\n",
      "m log m log log n / n for m=4 and n=900 is: 0.01\n",
      "Constant C is: 20355.624\n",
      "\n",
      "For n = 1000\n",
      "Average of all dual solutions: [9.95361736e+00 9.95417593e+00 9.95608803e+00 5.99032099e-10]\n",
      "Expectation of L2 norm between p*n and p* is: 240.72\n",
      "m log m log log n / n for m=4 and n=1000 is: 0.01\n",
      "Constant C is: 22462.033\n",
      "\n"
     ]
    }
   ],
   "source": [
    "# Create dictionaries to save results of simulations\n",
    "\n",
    "n_to_diffs = dict()\n",
    "n_to_mean_diffs = dict()\n",
    "n_to_log_factors = dict()\n",
    "n_to_C = dict()\n",
    "\n",
    "##########################################################\n",
    "# Solve the dual problem.\n",
    "    \n",
    "for n in n_values:\n",
    "    d = b / n\n",
    "    \n",
    "    # Create an array to store all of the simulations.\n",
    "    p_n_values = np.zeros((num_dual_samples, m))\n",
    "    \n",
    "    # Solve for one iteration of the offline dual optimal solution.\n",
    "    for i in range(num_dual_samples):\n",
    "        # Generate sample A_j and pi_j's (all at once in array)\n",
    "        \n",
    "        #coin_flip = np.random.choice([1, 0], p=[.5, .5])\n",
    "        #A = np.full((m, n), coin_flip)\n",
    "        #pi = np.random.uniform(0, 10, n)\n",
    "\n",
    "        #coin_flips = np.random.randint(100, size=n)\n",
    "        #A = np.tile(coin_flips, m).reshape((m,n))\n",
    "        pi = np.random.uniform(0, 10, n)\n",
    "        \n",
    "        \n",
    "        #coin_flips = np.random.randint(2, size=n)\n",
    "        #A = np.tile(coin_flips, m).reshape((m,num_stoc_samples))\n",
    "        #A = np.zeros((m, n))\n",
    "        #A[0] = coin_flips\n",
    "        #A[1] = 1-coin_flips\n",
    "    \n",
    "    \n",
    "    \n",
    "        A = np.zeros((m, n))\n",
    "        coin_flips = np.random.randint(m-1, size=n)\n",
    "        A[coin_flips, np.arange(n)] = 1\n",
    "    \n",
    "        # Construct the stochastic problem.\n",
    "        p_n = cp.Variable(m)\n",
    "\n",
    "        # We could do the sum of up to t terms if this was truly online;\n",
    "        # however since this is offline we can use matrix operations.\n",
    "\n",
    "        objective = cp.Minimize((d @ p_n) + (1/n)*cp.sum(cp.maximum(0,pi - (np.transpose(A) @ p_n))))\n",
    "\n",
    "        constraints = [p_n >= 0]\n",
    "\n",
    "        prob = cp.Problem(objective, constraints)\n",
    "\n",
    "        # Solve the offline dual problem.\n",
    "        result = prob.solve()\n",
    "\n",
    "        p_n_values[i] = p_n.value\n",
    "        \n",
    "        \n",
    "    \n",
    "    # Compute the 2-norm difference from the stochastic solution\n",
    "    diffs = [np.linalg.norm(p_n_values[i]-n_to_stochastic_p[n], ord=2)**2 for i in range(num_dual_samples)]\n",
    "    \n",
    "    # Compute the log difference based on m and n\n",
    "    log_factor = m*np.log(m)*np.log(np.log(n))/n\n",
    "    \n",
    "    # Compute the coefficient C from dividing the mean of the differences by the log_factor\n",
    "    C = np.mean(diffs) / log_factor\n",
    "    \n",
    "    # Save all results to the dictionary\n",
    "    n_to_diffs[n] = diffs\n",
    "    n_to_mean_diffs[n] = np.mean(diffs)\n",
    "    n_to_log_factors[n] = log_factor\n",
    "    n_to_C[n] = C\n",
    "    \n",
    "    # Print results\n",
    "    print(\"For n = %d\" % (n))\n",
    "    print(\"Average of all dual solutions: %s\" % (np.mean(p_n_values, axis=0)))\n",
    "    print(\"Expectation of L2 norm between p*n and p* is: %.2f\" % (np.mean(diffs)))\n",
    "    print(\"m log m log log n / n for m=%d and n=%d is: %.2f\" % (m, n, log_factor))\n",
    "    print(\"Constant C is: %.3f\\n\" % (C))"
   ]
  },
  {
   "cell_type": "code",
   "execution_count": 100,
   "metadata": {},
   "outputs": [
    {
     "data": {
      "image/png": "[encoded data removed]",
      "text/plain": [
       "<Figure size 576x432 with 1 Axes>"
      ]
     },
     "metadata": {
      "needs_background": "light"
     },
     "output_type": "display_data"
    }
   ],
   "source": [
    "fig, ax = plt.subplots(figsize=(8,6))\n",
    "plt.plot(list(n_to_C.keys()), list(n_to_C.values()))\n",
    "plt.xlabel(\"n\")\n",
    "plt.ylabel(\"C\")\n",
    "plt.title(\"With m=%d fixed, C in the dual convergence result\" % (m))\n",
    "plt.show()"
   ]
  },
  {
   "cell_type": "code",
   "execution_count": 101,
   "metadata": {},
   "outputs": [
    {
     "data": {
      "image/png": "[encoded data removed]",
      "text/plain": [
       "<Figure size 576x432 with 1 Axes>"
      ]
     },
     "metadata": {
      "needs_background": "light"
     },
     "output_type": "display_data"
    }
   ],
   "source": [
    "fig, ax = plt.subplots(figsize=(8,6))\n",
    "plt.plot(list(n_to_diffs.keys()), list(n_to_mean_diffs.values()))\n",
    "plt.xlabel(\"n\")\n",
    "plt.ylabel(\"Expectation of L2 norm between p*n and p*\")\n",
    "plt.title(\"With m=%d fixed, E[|p*n - p*|^2] in the dual convergence result\" % (m))\n",
    "plt.show()"
   ]
  },
  {
   "cell_type": "code",
   "execution_count": 102,
   "metadata": {},
   "outputs": [
    {
     "data": {
      "image/png": "[encoded data removed]",
      "text/plain": [
       "<Figure size 576x432 with 2 Axes>"
      ]
     },
     "metadata": {
      "needs_background": "light"
     },
     "output_type": "display_data"
    }
   ],
   "source": [
    "fig, ax1 = plt.subplots(figsize=(8,6))\n",
    "\n",
    "\n",
    "ax2 = ax1.twinx()\n",
    "\n",
    "x = list(n_to_diffs.keys())\n",
    "y1 = list(n_to_mean_diffs.values())\n",
    "y2 = [m*np.log(m)*np.log(np.log(n))/n for n in x]\n",
    "\n",
    "ax1.plot(x, y1, 'g-', label=\"Expectation of L2 norm between p*n and p* squared\")\n",
    "ax2.plot(x, y2, 'b-', label='m log m log log n / n')\n",
    "ax1.set_xlabel(\"n\")\n",
    "ax1.set_ylabel(\"Expectation of L2 norm between p*n and p* squared\", color='g')\n",
    "ax2.set_ylabel(\"m log m log log n / n\", color='b')\n",
    "plt.title(\"With m=%d fixed, Convergence rates for the a counterexample\" % (m))\n",
    "#plt.legend()\n",
    "\n",
    "plt.show()"
   ]
  },
  {
   "cell_type": "code",
   "execution_count": null,
   "metadata": {},
   "outputs": [],
   "source": []
  }
 ],
 "metadata": {
  "kernelspec": {
   "display_name": "Python 3",
   "language": "python",
   "name": "python3"
  },
  "language_info": {
   "codemirror_mode": {
    "name": "ipython",
    "version": 3
   },
   "file_extension": ".py",
   "mimetype": "text/x-python",
   "name": "python",
   "nbconvert_exporter": "python",
   "pygments_lexer": "ipython3",
   "version": "3.8.3"
  }
 },
 "nbformat": 4,
 "nbformat_minor": 4
}
