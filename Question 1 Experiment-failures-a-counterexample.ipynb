{
 "cells": [
  {
   "cell_type": "code",
   "execution_count": 1,
   "metadata": {},
   "outputs": [],
   "source": [
    "import cvxpy as cp\n",
    "import numpy as np\n",
    "import matplotlib.pyplot as plt\n",
    "import time"
   ]
  },
  {
   "cell_type": "markdown",
   "metadata": {},
   "source": [
    "# Set up variables"
   ]
  },
  {
   "cell_type": "code",
   "execution_count": 2,
   "metadata": {},
   "outputs": [],
   "source": [
    "# Problem data.\n",
    "m = 4\n",
    "n_values = np.arange(start=100, stop=4001, step=100)\n",
    "b = np.ones(m)"
   ]
  },
  {
   "cell_type": "code",
   "execution_count": 3,
   "metadata": {},
   "outputs": [],
   "source": [
    "# Number of times to solve the dual equation.\n",
    "num_dual_samples = 100\n",
    "\n",
    "# Number of times to solve the stochastic equation.\n",
    "num_stoc_samples = 10**5"
   ]
  },
  {
   "cell_type": "code",
   "execution_count": 4,
   "metadata": {},
   "outputs": [],
   "source": [
    "# Set random seed for reproducability.\n",
    "\n",
    "np.random.seed(23)"
   ]
  },
  {
   "cell_type": "code",
   "execution_count": 24,
   "metadata": {},
   "outputs": [],
   "source": [
    "coin_flips = np.random.randint(2, size=5)"
   ]
  },
  {
   "cell_type": "code",
   "execution_count": 25,
   "metadata": {},
   "outputs": [
    {
     "data": {
      "text/plain": [
       "array([1, 1, 0, 1, 0])"
      ]
     },
     "execution_count": 25,
     "metadata": {},
     "output_type": "execute_result"
    }
   ],
   "source": [
    "coin_flips"
   ]
  },
  {
   "cell_type": "code",
   "execution_count": 30,
   "metadata": {},
   "outputs": [],
   "source": [
    "a = np.zeros((4,5))"
   ]
  },
  {
   "cell_type": "code",
   "execution_count": 34,
   "metadata": {},
   "outputs": [],
   "source": [
    "a[0] = coin_flips\n",
    "a[1] = 1-coin_flips"
   ]
  },
  {
   "cell_type": "code",
   "execution_count": 35,
   "metadata": {},
   "outputs": [
    {
     "data": {
      "text/plain": [
       "array([[1., 1., 0., 1., 0.],\n",
       "       [0., 0., 1., 0., 1.],\n",
       "       [0., 0., 0., 0., 0.],\n",
       "       [0., 0., 0., 0., 0.]])"
      ]
     },
     "execution_count": 35,
     "metadata": {},
     "output_type": "execute_result"
    }
   ],
   "source": [
    "a"
   ]
  },
  {
   "cell_type": "markdown",
   "metadata": {},
   "source": [
    "# Solve for the stochastic program"
   ]
  },
  {
   "cell_type": "code",
   "execution_count": 36,
   "metadata": {},
   "outputs": [
    {
     "name": "stdout",
     "output_type": "stream",
     "text": [
      "Stochastic Program Results\n",
      "\n",
      "With n=100, iteration completed in 4.94 s\n",
      "[9.80442286e+00 9.79368302e+00 9.65406336e-13 9.65406336e-13]\n",
      "\n",
      "With n=200, iteration completed in 6.37 s\n",
      "[9.89635374e+00 9.89543891e+00 1.99715198e-12 1.99715198e-12]\n",
      "\n",
      "With n=300, iteration completed in 7.64 s\n",
      "[9.93532113e+00 9.93707686e+00 5.03521289e-12 5.03521289e-12]\n",
      "\n",
      "With n=400, iteration completed in 8.82 s\n",
      "[9.94857226e+00 9.94617983e+00 4.43967129e-12 4.43967129e-12]\n",
      "\n",
      "With n=500, iteration completed in 10.08 s\n",
      "[9.95919015e+00 9.96250160e+00 3.47076101e-12 3.47076101e-12]\n",
      "\n",
      "With n=600, iteration completed in 15.08 s\n",
      "[9.97097694e+00 9.96288539e+00 1.82113496e-11 1.82113496e-11]\n",
      "\n",
      "With n=700, iteration completed in 16.67 s\n",
      "[9.97389783e+00 9.97298332e+00 1.28780792e-12 1.28780792e-12]\n",
      "\n",
      "With n=800, iteration completed in 21.66 s\n",
      "[9.97749503e+00 9.97490050e+00 2.52575067e-11 2.52575067e-11]\n",
      "\n",
      "With n=900, iteration completed in 22.82 s\n",
      "[9.97336496e+00 9.97799805e+00 1.53535815e-11 1.53535815e-11]\n",
      "\n",
      "With n=1000, iteration completed in 24.04 s\n",
      "[9.97798216e+00 9.97962539e+00 6.84370072e-12 6.84370072e-12]\n"
     ]
    }
   ],
   "source": [
    "# Solve for the stochastic program.\n",
    "\n",
    "# This is deterministic.\n",
    "\n",
    "# From TA office hours: We cannot use the expectations\n",
    "# of A and pi instead of their samples of A and pi,\n",
    "# because we cannot exchange the function and inequality.\n",
    "# Therefore, we have to generate very many samples of A \n",
    "# and pi, and truly calculate the expectation.\n",
    "print(\"Stochastic Program Results\")\n",
    "\n",
    "# Create dictionary to store stochastic program results\n",
    "n_to_stochastic_p = dict()\n",
    "\n",
    "start = time.time()\n",
    "\n",
    "for n in n_values:\n",
    "    # Solve the stochastic problem.\n",
    "    d = b / n\n",
    "    \n",
    "    # Construct the stochastic problem.\n",
    "    p = cp.Variable(m)\n",
    "    \n",
    "    #coin_flip = np.random.choice([1, 0], p=[.5, .5])\n",
    "    #A = np.full((m, num_stoc_samples), coin_flip)\n",
    "    coin_flips = np.random.randint(2, size=num_stoc_samples)\n",
    "    #A = np.tile(coin_flips, m).reshape((m,num_stoc_samples))\n",
    "    A = np.zeros((m, num_stoc_samples))\n",
    "    A[0] = coin_flips\n",
    "    A[1] = 1-coin_flips\n",
    "    pi = np.random.uniform(0, 10, num_stoc_samples)\n",
    "        \n",
    "    objective = cp.Minimize((d @ p) + (1/num_stoc_samples)*cp.sum(cp.maximum(0,pi - (np.transpose(A) @ p))))\n",
    "\n",
    "    constraints = [p >= 0]\n",
    "\n",
    "    prob = cp.Problem(objective, constraints)\n",
    "\n",
    "    # Solve the stochastic problem.\n",
    "    result = prob.solve()\n",
    "    now = time.time()\n",
    "    print(\"\\nWith n=%d, iteration completed in %.2f s\" % (n, now - start))\n",
    "    print(p.value)\n",
    "    \n",
    "    n_to_stochastic_p[n] = p.value\n",
    "    "
   ]
  },
  {
   "cell_type": "code",
   "execution_count": 37,
   "metadata": {},
   "outputs": [
    {
     "data": {
      "text/plain": [
       "False"
      ]
     },
     "execution_count": 37,
     "metadata": {},
     "output_type": "execute_result"
    }
   ],
   "source": [
    "# helper method to help us confirm whether the\n",
    "# matrix is positive definite\n",
    "\n",
    "def is_pos_def(x):\n",
    "    return np.all(np.linalg.eigvals(x) > 0)\n",
    "\n",
    "coin_flip = np.random.choice([1, 0], p=[.5, .5])\n",
    "A = np.full((m, num_stoc_samples), coin_flip)\n",
    "\n",
    "coin_flips = np.random.randint(2, size=num_stoc_samples)\n",
    "A = np.tile(coin_flips, m).reshape((m,num_stoc_samples))\n",
    "\n",
    "\n",
    "coin_flips = np.random.randint(2, size=num_stoc_samples)\n",
    "#A = np.tile(coin_flips, m).reshape((m,num_stoc_samples))\n",
    "A = np.zeros((m, num_stoc_samples))\n",
    "A[0] = coin_flips\n",
    "A[1] = 1-coin_flips\n",
    "\n",
    "is_pos_def(A@np.transpose(A))"
   ]
  },
  {
   "cell_type": "code",
   "execution_count": 38,
   "metadata": {},
   "outputs": [
    {
     "data": {
      "text/plain": [
       "array([[1., 1., 0., ..., 1., 1., 1.],\n",
       "       [0., 0., 1., ..., 0., 0., 0.],\n",
       "       [0., 0., 0., ..., 0., 0., 0.],\n",
       "       [0., 0., 0., ..., 0., 0., 0.]])"
      ]
     },
     "execution_count": 38,
     "metadata": {},
     "output_type": "execute_result"
    }
   ],
   "source": [
    "A"
   ]
  },
  {
   "cell_type": "markdown",
   "metadata": {},
   "source": [
    "# Solve for the dual problem for various values of n"
   ]
  },
  {
   "cell_type": "code",
   "execution_count": 39,
   "metadata": {},
   "outputs": [
    {
     "name": "stdout",
     "output_type": "stream",
     "text": [
      "For n = 100\n",
      "Average of all dual solutions: [9.67746854e+00 9.65634228e+00 5.10623295e-10 5.10623295e-10]\n",
      "Expectation of L2 norm between p*n and p* is: 0.15\n",
      "m log m log log n / n for m=4 and n=100 is: 0.08\n",
      "Constant C is: 1.818\n",
      "\n",
      "For n = 200\n",
      "Average of all dual solutions: [9.82217923e+00 9.83626423e+00 5.08968805e-10 5.08968805e-10]\n",
      "Expectation of L2 norm between p*n and p* is: 0.05\n",
      "m log m log log n / n for m=4 and n=200 is: 0.05\n",
      "Constant C is: 1.170\n",
      "\n",
      "For n = 300\n",
      "Average of all dual solutions: [9.89634937e+00 9.88280628e+00 5.69508024e-10 5.69508024e-10]\n",
      "Expectation of L2 norm between p*n and p* is: 0.02\n",
      "m log m log log n / n for m=4 and n=300 is: 0.03\n",
      "Constant C is: 0.626\n",
      "\n",
      "For n = 400\n",
      "Average of all dual solutions: [9.92119849e+00 9.91043433e+00 4.60238002e-10 4.60238002e-10]\n",
      "Expectation of L2 norm between p*n and p* is: 0.01\n",
      "m log m log log n / n for m=4 and n=400 is: 0.02\n",
      "Constant C is: 0.382\n",
      "\n",
      "For n = 500\n",
      "Average of all dual solutions: [9.94053818e+00 9.94957139e+00 5.04751828e-10 5.04751828e-10]\n",
      "Expectation of L2 norm between p*n and p* is: 0.00\n",
      "m log m log log n / n for m=4 and n=500 is: 0.02\n",
      "Constant C is: 0.236\n",
      "\n",
      "For n = 600\n",
      "Average of all dual solutions: [9.94929192e+00 9.94996375e+00 5.49377697e-10 5.49377697e-10]\n",
      "Expectation of L2 norm between p*n and p* is: 0.00\n",
      "m log m log log n / n for m=4 and n=600 is: 0.02\n",
      "Constant C is: 0.228\n",
      "\n",
      "For n = 700\n",
      "Average of all dual solutions: [9.95546454e+00 9.95975264e+00 5.84297117e-10 5.84297117e-10]\n",
      "Expectation of L2 norm between p*n and p* is: 0.00\n",
      "m log m log log n / n for m=4 and n=700 is: 0.01\n",
      "Constant C is: 0.196\n",
      "\n",
      "For n = 800\n",
      "Average of all dual solutions: [9.96330130e+00 9.96299324e+00 5.43682039e-10 5.43682039e-10]\n",
      "Expectation of L2 norm between p*n and p* is: 0.00\n",
      "m log m log log n / n for m=4 and n=800 is: 0.01\n",
      "Constant C is: 0.131\n",
      "\n",
      "For n = 900\n",
      "Average of all dual solutions: [9.96524641e+00 9.96577761e+00 6.34102808e-10 6.34102808e-10]\n",
      "Expectation of L2 norm between p*n and p* is: 0.00\n",
      "m log m log log n / n for m=4 and n=900 is: 0.01\n",
      "Constant C is: 0.144\n",
      "\n",
      "For n = 1000\n",
      "Average of all dual solutions: [9.97134468e+00 9.96884958e+00 6.48117918e-10 6.48117918e-10]\n",
      "Expectation of L2 norm between p*n and p* is: 0.00\n",
      "m log m log log n / n for m=4 and n=1000 is: 0.01\n",
      "Constant C is: 0.094\n",
      "\n"
     ]
    }
   ],
   "source": [
    "# Create dictionaries to save results of simulations\n",
    "\n",
    "n_to_diffs = dict()\n",
    "n_to_mean_diffs = dict()\n",
    "n_to_log_factors = dict()\n",
    "n_to_C = dict()\n",
    "\n",
    "##########################################################\n",
    "# Solve the dual problem.\n",
    "    \n",
    "for n in n_values:\n",
    "    d = b / n\n",
    "    \n",
    "    # Create an array to store all of the simulations.\n",
    "    p_n_values = np.zeros((num_dual_samples, m))\n",
    "    \n",
    "    # Solve for one iteration of the offline dual optimal solution.\n",
    "    for i in range(num_dual_samples):\n",
    "        # Generate sample A_j and pi_j's (all at once in array)\n",
    "        \n",
    "        #coin_flip = np.random.choice([1, 0], p=[.5, .5])\n",
    "        #A = np.full((m, n), coin_flip)\n",
    "        #pi = np.random.uniform(0, 10, n)\n",
    "\n",
    "        coin_flips = np.random.randint(2, size=n)\n",
    "        A = np.tile(coin_flips, m).reshape((m,n))\n",
    "        pi = np.random.uniform(0, 10, n)\n",
    "        \n",
    "        \n",
    "        coin_flips = np.random.randint(2, size=n)\n",
    "        #A = np.tile(coin_flips, m).reshape((m,num_stoc_samples))\n",
    "        A = np.zeros((m, n))\n",
    "        A[0] = coin_flips\n",
    "        A[1] = 1-coin_flips\n",
    "    \n",
    "        # Construct the stochastic problem.\n",
    "        p_n = cp.Variable(m)\n",
    "\n",
    "        # We could do the sum of up to t terms if this was truly online;\n",
    "        # however since this is offline we can use matrix operations.\n",
    "\n",
    "        objective = cp.Minimize((d @ p_n) + (1/n)*cp.sum(cp.maximum(0,pi - (np.transpose(A) @ p_n))))\n",
    "\n",
    "        constraints = [p_n >= 0]\n",
    "\n",
    "        prob = cp.Problem(objective, constraints)\n",
    "\n",
    "        # Solve the offline dual problem.\n",
    "        result = prob.solve()\n",
    "\n",
    "        p_n_values[i] = p_n.value\n",
    "        \n",
    "        \n",
    "    \n",
    "    # Compute the 2-norm difference from the stochastic solution\n",
    "    diffs = [np.linalg.norm(p_n_values[i]-n_to_stochastic_p[n], ord=2)**2 for i in range(num_dual_samples)]\n",
    "    \n",
    "    # Compute the log difference based on m and n\n",
    "    log_factor = m*np.log(m)*np.log(np.log(n))/n\n",
    "    \n",
    "    # Compute the coefficient C from dividing the mean of the differences by the log_factor\n",
    "    C = np.mean(diffs) / log_factor\n",
    "    \n",
    "    # Save all results to the dictionary\n",
    "    n_to_diffs[n] = diffs\n",
    "    n_to_mean_diffs[n] = np.mean(diffs)\n",
    "    n_to_log_factors[n] = log_factor\n",
    "    n_to_C[n] = C\n",
    "    \n",
    "    # Print results\n",
    "    print(\"For n = %d\" % (n))\n",
    "    print(\"Average of all dual solutions: %s\" % (np.mean(p_n_values, axis=0)))\n",
    "    print(\"Expectation of L2 norm between p*n and p* is: %.2f\" % (np.mean(diffs)))\n",
    "    print(\"m log m log log n / n for m=%d and n=%d is: %.2f\" % (m, n, log_factor))\n",
    "    print(\"Constant C is: %.3f\\n\" % (C))"
   ]
  },
  {
   "cell_type": "code",
   "execution_count": 20,
   "metadata": {},
   "outputs": [
    {
     "data": {
      "image/png": "[encoded data removed]",
      "text/plain": [
       "<Figure size 576x432 with 1 Axes>"
      ]
     },
     "metadata": {
      "needs_background": "light"
     },
     "output_type": "display_data"
    }
   ],
   "source": [
    "fig, ax = plt.subplots(figsize=(8,6))\n",
    "plt.plot(list(n_to_C.keys()), list(n_to_C.values()))\n",
    "plt.xlabel(\"n\")\n",
    "plt.ylabel(\"C\")\n",
    "plt.title(\"With m=%d fixed, C in the dual convergence result\" % (m))\n",
    "plt.show()"
   ]
  },
  {
   "cell_type": "code",
   "execution_count": 21,
   "metadata": {},
   "outputs": [
    {
     "data": {
      "image/png": "[encoded data removed]",
      "text/plain": [
       "<Figure size 576x432 with 1 Axes>"
      ]
     },
     "metadata": {
      "needs_background": "light"
     },
     "output_type": "display_data"
    }
   ],
   "source": [
    "fig, ax = plt.subplots(figsize=(8,6))\n",
    "plt.plot(list(n_to_diffs.keys()), list(n_to_mean_diffs.values()))\n",
    "plt.xlabel(\"n\")\n",
    "plt.ylabel(\"Expectation of L2 norm between p*n and p*\")\n",
    "plt.title(\"With m=%d fixed, E[|p*n - p*|^2] in the dual convergence result\" % (m))\n",
    "plt.show()"
   ]
  },
  {
   "cell_type": "code",
   "execution_count": 22,
   "metadata": {},
   "outputs": [
    {
     "data": {
      "image/png": "[encoded data removed]",
      "text/plain": [
       "<Figure size 576x432 with 2 Axes>"
      ]
     },
     "metadata": {
      "needs_background": "light"
     },
     "output_type": "display_data"
    }
   ],
   "source": [
    "fig, ax1 = plt.subplots(figsize=(8,6))\n",
    "\n",
    "\n",
    "ax2 = ax1.twinx()\n",
    "\n",
    "x = list(n_to_diffs.keys())\n",
    "y1 = list(n_to_mean_diffs.values())\n",
    "y2 = [m*np.log(m)*np.log(np.log(n))/n for n in x]\n",
    "\n",
    "ax1.plot(x, y1, 'g-', label=\"Expectation of L2 norm between p*n and p* squared\")\n",
    "ax2.plot(x, y2, 'b-', label='m log m log log n / n')\n",
    "ax1.set_xlabel(\"n\")\n",
    "ax1.set_ylabel(\"Expectation of L2 norm between p*n and p* squared\", color='g')\n",
    "ax2.set_ylabel(\"m log m log log n / n\", color='b')\n",
    "plt.title(\"With m=%d fixed, Convergence rates for the a counterexample\" % (m))\n",
    "#plt.legend()\n",
    "\n",
    "plt.show()"
   ]
  },
  {
   "cell_type": "code",
   "execution_count": null,
   "metadata": {},
   "outputs": [],
   "source": []
  }
 ],
 "metadata": {
  "kernelspec": {
   "display_name": "Python 3",
   "language": "python",
   "name": "python3"
  },
  "language_info": {
   "codemirror_mode": {
    "name": "ipython",
    "version": 3
   },
   "file_extension": ".py",
   "mimetype": "text/x-python",
   "name": "python",
   "nbconvert_exporter": "python",
   "pygments_lexer": "ipython3",
   "version": "3.8.3"
  }
 },
 "nbformat": 4,
 "nbformat_minor": 4
}
