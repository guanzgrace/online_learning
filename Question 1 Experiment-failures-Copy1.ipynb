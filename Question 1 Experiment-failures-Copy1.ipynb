{
 "cells": [
  {
   "cell_type": "code",
   "execution_count": 1,
   "metadata": {},
   "outputs": [],
   "source": [
    "import cvxpy as cp\n",
    "import numpy as np\n",
    "import matplotlib.pyplot as plt\n",
    "import time"
   ]
  },
  {
   "cell_type": "markdown",
   "metadata": {},
   "source": [
    "# Set up variables"
   ]
  },
  {
   "cell_type": "code",
   "execution_count": 2,
   "metadata": {},
   "outputs": [],
   "source": [
    "# Problem data.\n",
    "m = 4\n",
    "n_values = [25, 50, 100, 250, 500, 1000]\n",
    "b = np.ones(m)"
   ]
  },
  {
   "cell_type": "code",
   "execution_count": 3,
   "metadata": {},
   "outputs": [],
   "source": [
    "# Number of times to solve the dual equation.\n",
    "num_dual_samples = 100\n",
    "\n",
    "# Number of times to solve the stochastic equation.\n",
    "num_stoc_samples = 10**5"
   ]
  },
  {
   "cell_type": "code",
   "execution_count": 4,
   "metadata": {},
   "outputs": [],
   "source": [
    "# Set random seed for reproducability.\n",
    "\n",
    "np.random.seed(23)"
   ]
  },
  {
   "cell_type": "code",
   "execution_count": null,
   "metadata": {},
   "outputs": [],
   "source": []
  },
  {
   "cell_type": "markdown",
   "metadata": {},
   "source": [
    "# Solve for the stochastic program"
   ]
  },
  {
   "cell_type": "code",
   "execution_count": 5,
   "metadata": {},
   "outputs": [
    {
     "name": "stdout",
     "output_type": "stream",
     "text": [
      "Stochastic Program Results\n",
      "\n",
      "With n=25, iteration completed in 0.65 s\n",
      "[-2.72307716e-15 -2.72307716e-15 -2.72307716e-15 -2.72307716e-15]\n",
      "\n",
      "With n=50, iteration completed in 1.31 s\n",
      "[4.35728746e-15 4.35728746e-15 4.35728746e-15 4.35728746e-15]\n",
      "\n",
      "With n=100, iteration completed in 1.93 s\n",
      "[-8.6333929e-16 -8.6333929e-16 -8.6333929e-16 -8.6333929e-16]\n",
      "\n",
      "With n=250, iteration completed in 3.47 s\n",
      "[0.25 0.25 0.25 0.25]\n",
      "\n",
      "With n=500, iteration completed in 4.99 s\n",
      "[0.25 0.25 0.25 0.25]\n",
      "\n",
      "With n=1000, iteration completed in 5.61 s\n",
      "[-8.64192888e-16 -8.64192888e-16 -8.64192888e-16 -8.64192888e-16]\n"
     ]
    }
   ],
   "source": [
    "# Solve for the stochastic program.\n",
    "\n",
    "# This is deterministic.\n",
    "\n",
    "# From TA office hours: We cannot use the expectations\n",
    "# of A and pi instead of their samples of A and pi,\n",
    "# because we cannot exchange the function and inequality.\n",
    "# Therefore, we have to generate very many samples of A \n",
    "# and pi, and truly calculate the expectation.\n",
    "print(\"Stochastic Program Results\")\n",
    "\n",
    "# Create dictionary to store stochastic program results\n",
    "n_to_stochastic_p = dict()\n",
    "\n",
    "start = time.time()\n",
    "\n",
    "for n in n_values:\n",
    "    # Solve the stochastic problem.\n",
    "    d = b / n\n",
    "    \n",
    "    # Construct the stochastic problem.\n",
    "    p = cp.Variable(m)\n",
    "    \n",
    "    coin_flip = np.random.choice([1, 0], p=[.5, .5])\n",
    "    A = np.full((m, num_stoc_samples), coin_flip)\n",
    "    pi = coin_flip\n",
    "        \n",
    "    objective = cp.Minimize((d @ p) + (1/num_stoc_samples)*cp.sum(cp.maximum(0,pi - (np.transpose(A) @ p))))\n",
    "\n",
    "    constraints = [p >= 0]\n",
    "\n",
    "    prob = cp.Problem(objective, constraints)\n",
    "\n",
    "    # Solve the stochastic problem.\n",
    "    result = prob.solve()\n",
    "    now = time.time()\n",
    "    print(\"\\nWith n=%d, iteration completed in %.2f s\" % (n, now - start))\n",
    "    print(p.value)\n",
    "    \n",
    "    n_to_stochastic_p[n] = p.value\n",
    "    "
   ]
  },
  {
   "cell_type": "code",
   "execution_count": 6,
   "metadata": {},
   "outputs": [
    {
     "data": {
      "text/plain": [
       "False"
      ]
     },
     "execution_count": 6,
     "metadata": {},
     "output_type": "execute_result"
    }
   ],
   "source": [
    "# helper method to help us confirm whether the\n",
    "# matrix is positive definite\n",
    "\n",
    "def is_pos_def(x):\n",
    "    return np.all(np.linalg.eigvals(x) > 0)\n",
    "\n",
    "coin_flip = np.random.choice([1, 0], p=[.5, .5])\n",
    "A = np.full((m, num_stoc_samples), coin_flip)\n",
    "is_pos_def(A@np.transpose(A))"
   ]
  },
  {
   "cell_type": "code",
   "execution_count": null,
   "metadata": {},
   "outputs": [],
   "source": []
  },
  {
   "cell_type": "markdown",
   "metadata": {},
   "source": [
    "# Solve for the dual problem for various values of n"
   ]
  },
  {
   "cell_type": "code",
   "execution_count": 7,
   "metadata": {},
   "outputs": [
    {
     "name": "stdout",
     "output_type": "stream",
     "text": [
      "For n = 25\n",
      "Average of all dual solutions: [1.34601786 1.34601786 1.34601786 1.34601786]\n",
      "Expectation of L2 norm between p*n and p* is: 12.54\n",
      "m log m log log n / n for m=4 and n=25 is: 0.26\n",
      "Constant C is: 48.360\n",
      "\n",
      "For n = 50\n",
      "Average of all dual solutions: [1.20333041 1.20333041 1.20333041 1.20333041]\n",
      "Expectation of L2 norm between p*n and p* is: 11.60\n",
      "m log m log log n / n for m=4 and n=50 is: 0.15\n",
      "Constant C is: 76.660\n",
      "\n",
      "For n = 100\n",
      "Average of all dual solutions: [1.10806292 1.10806292 1.10806292 1.10806292]\n",
      "Expectation of L2 norm between p*n and p* is: 10.92\n",
      "m log m log log n / n for m=4 and n=100 is: 0.08\n",
      "Constant C is: 128.894\n",
      "\n",
      "For n = 250\n",
      "Average of all dual solutions: [1.01796126 1.01796126 1.01796126 1.01796126]\n",
      "Expectation of L2 norm between p*n and p* is: 8.32\n",
      "m log m log log n / n for m=4 and n=250 is: 0.04\n",
      "Constant C is: 219.641\n",
      "\n",
      "For n = 500\n",
      "Average of all dual solutions: [1.42082165 1.42082165 1.42082165 1.42082165]\n",
      "Expectation of L2 norm between p*n and p* is: 11.57\n",
      "m log m log log n / n for m=4 and n=500 is: 0.02\n",
      "Constant C is: 571.293\n",
      "\n",
      "For n = 1000\n",
      "Average of all dual solutions: [1.04843423 1.04843423 1.04843423 1.04843423]\n",
      "Expectation of L2 norm between p*n and p* is: 10.47\n",
      "m log m log log n / n for m=4 and n=1000 is: 0.01\n",
      "Constant C is: 976.846\n",
      "\n"
     ]
    }
   ],
   "source": [
    "# Create dictionaries to save results of simulations\n",
    "\n",
    "n_to_diffs = dict()\n",
    "n_to_mean_diffs = dict()\n",
    "n_to_log_factors = dict()\n",
    "n_to_C = dict()\n",
    "\n",
    "##########################################################\n",
    "# Solve the dual problem.\n",
    "    \n",
    "for n in n_values:\n",
    "    d = b / n\n",
    "    \n",
    "    # Create an array to store all of the simulations.\n",
    "    p_n_values = np.zeros((num_dual_samples, m))\n",
    "    \n",
    "    # Solve for one iteration of the offline dual optimal solution.\n",
    "    for i in range(num_dual_samples):\n",
    "        # Generate sample A_j and pi_j's (all at once in array)\n",
    "        \n",
    "        coin_flip = np.random.choice([1, 0], p=[.5, .5])\n",
    "        A = np.full((m, n), coin_flip)\n",
    "        pi = np.random.uniform(0, 10, n)\n",
    "\n",
    "        \n",
    "        # Construct the stochastic problem.\n",
    "        p_n = cp.Variable(m)\n",
    "\n",
    "        # We could do the sum of up to t terms if this was truly online;\n",
    "        # however since this is offline we can use matrix operations.\n",
    "\n",
    "        objective = cp.Minimize((d @ p_n) + (1/n)*cp.sum(cp.maximum(0,pi - (np.transpose(A) @ p_n))))\n",
    "\n",
    "        constraints = [p_n >= 0]\n",
    "\n",
    "        prob = cp.Problem(objective, constraints)\n",
    "\n",
    "        # Solve the offline dual problem.\n",
    "        result = prob.solve()\n",
    "\n",
    "        p_n_values[i] = p_n.value\n",
    "        \n",
    "        \n",
    "    \n",
    "    # Compute the 2-norm difference from the stochastic solution\n",
    "    diffs = [np.linalg.norm(p_n_values[i]-n_to_stochastic_p[n], ord=2)**2 for i in range(num_dual_samples)]\n",
    "    \n",
    "    # Compute the log difference based on m and n\n",
    "    log_factor = m*np.log(m)*np.log(np.log(n))/n\n",
    "    \n",
    "    # Compute the coefficient C from dividing the mean of the differences by the log_factor\n",
    "    C = np.mean(diffs) / log_factor\n",
    "    \n",
    "    # Save all results to the dictionary\n",
    "    n_to_diffs[n] = diffs\n",
    "    n_to_mean_diffs[n] = np.mean(diffs)\n",
    "    n_to_log_factors[n] = log_factor\n",
    "    n_to_C[n] = C\n",
    "    \n",
    "    # Print results\n",
    "    print(\"For n = %d\" % (n))\n",
    "    print(\"Average of all dual solutions: %s\" % (np.mean(p_n_values, axis=0)))\n",
    "    print(\"Expectation of L2 norm between p*n and p* is: %.2f\" % (np.mean(diffs)))\n",
    "    print(\"m log m log log n / n for m=%d and n=%d is: %.2f\" % (m, n, log_factor))\n",
    "    print(\"Constant C is: %.3f\\n\" % (C))"
   ]
  },
  {
   "cell_type": "code",
   "execution_count": 8,
   "metadata": {},
   "outputs": [
    {
     "data": {
      "image/png": "[encoded data removed]",
      "text/plain": [
       "<Figure size 576x432 with 1 Axes>"
      ]
     },
     "metadata": {
      "needs_background": "light"
     },
     "output_type": "display_data"
    }
   ],
   "source": [
    "fig, ax = plt.subplots(figsize=(8,6))\n",
    "plt.plot(list(n_to_C.keys()), list(n_to_C.values()))\n",
    "plt.xlabel(\"n\")\n",
    "plt.ylabel(\"C\")\n",
    "plt.title(\"With m=%d fixed, C in the dual convergence result\" % (m))\n",
    "plt.show()"
   ]
  },
  {
   "cell_type": "code",
   "execution_count": 9,
   "metadata": {},
   "outputs": [
    {
     "data": {
      "image/png": "[encoded data removed]",
      "text/plain": [
       "<Figure size 576x432 with 1 Axes>"
      ]
     },
     "metadata": {
      "needs_background": "light"
     },
     "output_type": "display_data"
    }
   ],
   "source": [
    "fig, ax = plt.subplots(figsize=(8,6))\n",
    "plt.plot(list(n_to_diffs.keys()), list(n_to_mean_diffs.values()))\n",
    "plt.xlabel(\"n\")\n",
    "plt.ylabel(\"Expectation of L2 norm between p*n and p*\")\n",
    "plt.title(\"With m=%d fixed, E[|p*n - p*|^2] in the dual convergence result\" % (m))\n",
    "plt.show()"
   ]
  },
  {
   "cell_type": "code",
   "execution_count": null,
   "metadata": {},
   "outputs": [],
   "source": []
  }
 ],
 "metadata": {
  "kernelspec": {
   "display_name": "Python 3",
   "language": "python",
   "name": "python3"
  },
  "language_info": {
   "codemirror_mode": {
    "name": "ipython",
    "version": 3
   },
   "file_extension": ".py",
   "mimetype": "text/x-python",
   "name": "python",
   "nbconvert_exporter": "python",
   "pygments_lexer": "ipython3",
   "version": "3.8.3"
  }
 },
 "nbformat": 4,
 "nbformat_minor": 4
}
