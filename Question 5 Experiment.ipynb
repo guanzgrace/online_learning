{
 "cells": [
  {
   "cell_type": "code",
   "execution_count": 1,
   "metadata": {},
   "outputs": [],
   "source": [
    "import cvxpy as cp\n",
    "import numpy as np\n",
    "import matplotlib.pyplot as plt\n",
    "import time\n",
    "import pandas as pd"
   ]
  },
  {
   "cell_type": "markdown",
   "metadata": {},
   "source": [
    "# Implement Action-history-dependent Learning Algorithm"
   ]
  },
  {
   "cell_type": "code",
   "execution_count": 2,
   "metadata": {},
   "outputs": [],
   "source": [
    "# Problem data.\n",
    "# Input: n, d1,...,dm\n",
    "\n",
    "# m is the number of variables\n",
    "m = 4\n",
    "\n",
    "# n is the number of time steps\n",
    "# (constraints that are revealed one by one)\n",
    "n_values = [24, 48, 96, 248, 500, 1000]\n",
    "\n",
    "d = np.full(m, 0.25)"
   ]
  },
  {
   "cell_type": "code",
   "execution_count": 3,
   "metadata": {},
   "outputs": [],
   "source": [
    "# Make results deterministic for debugging\n",
    "np.random.seed(23)"
   ]
  },
  {
   "cell_type": "code",
   "execution_count": 4,
   "metadata": {},
   "outputs": [],
   "source": [
    "# Runs Algorithm 3 in paper [5]\n",
    "def run_alg_3(A, pi, n, m, d):\n",
    "    start = time.time()\n",
    "\n",
    "    # Initialize the constraint b_i0 = n d_i for i=1,...,m\n",
    "    b = n*d\n",
    "\n",
    "    historical_b = np.zeros((n+1,m))\n",
    "    historical_b[0] = b\n",
    "\n",
    "    # Initialize the dual price p1 = 0\n",
    "\n",
    "    p = np.zeros((m,))\n",
    "\n",
    "    historical_p = np.zeros((n+1,m))\n",
    "    historical_p[0] = p\n",
    "\n",
    "    # Initialize x vector\n",
    "    x = np.ndarray(0)\n",
    "\n",
    "    ############################################################\n",
    "\n",
    "    # For t=1,...,n do\n",
    "    for t in range(1,n+1):\n",
    "        if t % 500 == 0:\n",
    "            now = time.time()\n",
    "            print(\"%d iterations completed in %.2f s\" % (t, now-start))\n",
    "        \n",
    "        #print(\"\\nIteration %d\" % (t))\n",
    "        # Observe (pi_t, a_t)\n",
    "        a_t = A[:,t-1]\n",
    "        pi_t = pi[t-1]\n",
    "        #print(\"a_t: %s\" % (a_t))\n",
    "        #print(\"pi_t: %s\" % (pi_t))\n",
    "\n",
    "        # Set:\n",
    "        # x_t = 1 if r_t > a_t' p_t\n",
    "        # x_t = 0 if r_t <=  a_t' p_t\n",
    "        # Save values of x into array\n",
    "        xt = 0\n",
    "        if pi_t > np.transpose(a_t)@historical_p[t-1]:\n",
    "            xt = 1\n",
    "        x = np.append(x, xt)\n",
    "        #print(\"x: %s\" % (x))\n",
    "        #print(\"len(x): %d\" % (len(x)))\n",
    "        \n",
    "        if len(x) < n:\n",
    "\n",
    "\n",
    "            # Update the constraint vector\n",
    "            b = historical_b[t-1] - np.array(a_t*xt).flatten()\n",
    "            historical_b[t] = b\n",
    "            #print(\"b: %s\" % (b))\n",
    "\n",
    "            # Specify a primal optimization problem\n",
    "            # max sum from j=1 to t of r_j x_j\n",
    "            # such that sum from j=1 to t of a_ij x_j <= tb_{it} / (n-t) for i=1,...,m\n",
    "            # 0<=xj<=1 for j=1,...,t\n",
    "\n",
    "            # Define variables\n",
    "            a_up_to_t = A[:,:t]\n",
    "            pi_up_to_t = pi[:t]\n",
    "            x_opt = cp.Variable(t)\n",
    "\n",
    "            # Create constraints.\n",
    "            constraints = [a_up_to_t @ x_opt <= t*b / (n-t),\n",
    "                           x_opt >= 0,\n",
    "                           x_opt <= 1]\n",
    "\n",
    "            # Form objective.\n",
    "            obj = cp.Maximize(pi_up_to_t @ x_opt)\n",
    "\n",
    "            # Form and solve problem.\n",
    "            prob = cp.Problem(obj, constraints)\n",
    "            prob.solve()\n",
    "\n",
    "            # The optimal dual variable (Lagrange multiplier) for\n",
    "            # a constraint is stored in constraint.dual_value.\n",
    "            #print(\"optimal (a_up_to_t @ x_opt <= t*b / (n-t)) dual variable\", constraints[0].dual_value)\n",
    "\n",
    "            p = constraints[0].dual_value\n",
    "\n",
    "            historical_p[t] = p\n",
    "\n",
    "    return pi @ x"
   ]
  },
  {
   "cell_type": "markdown",
   "metadata": {},
   "source": [
    "# Compute dual offline solution"
   ]
  },
  {
   "cell_type": "code",
   "execution_count": 5,
   "metadata": {},
   "outputs": [],
   "source": [
    "def solve_dual_offline(A, pi, n, m, d):\n",
    "    \n",
    "    b = n * d\n",
    "    \n",
    "    x_opt = cp.Variable(n)\n",
    "\n",
    "    # Create constraints.\n",
    "    constraints = [A @ x_opt <= b,\n",
    "                   x_opt >= 0,\n",
    "                   x_opt <= 1]\n",
    "\n",
    "    # Form objective.\n",
    "    obj = cp.Maximize(pi @ x_opt)\n",
    "\n",
    "    # Form and solve problem.\n",
    "    prob = cp.Problem(obj, constraints)\n",
    "    prob.solve()\n",
    "\n",
    "    return pi @ x_opt.value"
   ]
  },
  {
   "cell_type": "markdown",
   "metadata": {},
   "source": [
    "## Use the setting of Random Input I to assess stopping time and remaining inventory B_n"
   ]
  },
  {
   "cell_type": "code",
   "execution_count": 6,
   "metadata": {},
   "outputs": [],
   "source": [
    "num_trials = 3"
   ]
  },
  {
   "cell_type": "code",
   "execution_count": 7,
   "metadata": {},
   "outputs": [],
   "source": [
    "v_vectors = [[0, 0, 1, 1],\n",
    "            [0, 1, 0, 1]]\n",
    "\n",
    "w_vectors = [[1, 1, 0, 0],\n",
    "            [1, 0, 1, 0]]"
   ]
  },
  {
   "cell_type": "code",
   "execution_count": 8,
   "metadata": {},
   "outputs": [
    {
     "name": "stdout",
     "output_type": "stream",
     "text": [
      "500 iterations completed in 3.28 s\n",
      "500 iterations completed in 3.25 s\n",
      "500 iterations completed in 3.47 s\n",
      "500 iterations completed in 3.47 s\n",
      "1000 iterations completed in 8.47 s\n",
      "500 iterations completed in 3.33 s\n",
      "1000 iterations completed in 8.19 s\n",
      "500 iterations completed in 3.32 s\n",
      "1000 iterations completed in 7.94 s\n"
     ]
    }
   ],
   "source": [
    "# This dictionary maps n to an array of dictionaries\n",
    "# for each trial, we save the results:\n",
    "# [tn_to_hist_b, tn_to_min_resources_arr,\n",
    "# tn_to_stopping_time_b2, tn_to_stopping_time_b4,\n",
    "# tn_to_stopping_time_0, tn_to_bn]\n",
    "n_to_regret_results = dict()\n",
    "n_to_expected_regret = dict()\n",
    "\n",
    "for n in n_values:\n",
    "    \n",
    "    regret = list()\n",
    "    \n",
    "    for trial in range(num_trials):\n",
    "        coin_flips = np.random.randint(2, size=int(n/4))\n",
    "\n",
    "        list_of_vectors = list()\n",
    "        for i in range(int(n/4)):\n",
    "            list_of_vectors.append(v_vectors[coin_flips[i]])\n",
    "\n",
    "        a1 = np.transpose(list_of_vectors)\n",
    "        a2 = 1 - a1\n",
    "        A = np.concatenate((a1, a2, a2, a2), axis=1)\n",
    "        \n",
    "        pi = np.arange(m)[::-1].repeat(n/4)\n",
    "        \n",
    "        alg_3_p = run_alg_3(A, pi, n, m, d)\n",
    "        dual_offline_p = solve_dual_offline(A, pi, n, m, d)\n",
    "\n",
    "        regret.append(dual_offline_p - alg_3_p)\n",
    "        \n",
    "    n_to_regret_results[n] = regret\n",
    "    n_to_expected_regret[n] = np.mean(regret)"
   ]
  },
  {
   "cell_type": "markdown",
   "metadata": {},
   "source": []
  },
  {
   "cell_type": "code",
   "execution_count": 9,
   "metadata": {},
   "outputs": [
    {
     "data": {
      "image/png": "[encoded data removed]",
      "text/plain": [
       "<Figure size 576x432 with 2 Axes>"
      ]
     },
     "metadata": {
      "needs_background": "light"
     },
     "output_type": "display_data"
    }
   ],
   "source": [
    "fig, ax1 = plt.subplots(figsize=(8,6))\n",
    "\n",
    "\n",
    "ax2 = ax1.twinx()\n",
    "\n",
    "x = list(n_to_expected_regret.keys())\n",
    "y1 = list(n_to_expected_regret.values())\n",
    "y2 = [np.log(n)*np.log(np.log(n)) for n in x]\n",
    "\n",
    "ax1.plot(x, y1, 'g-', label=\"Expected Regret of Alg 3\")\n",
    "ax2.plot(x, y2, 'b-', label='log n log log n')\n",
    "ax1.set_xlabel(\"n\")\n",
    "ax1.set_ylabel(\"Expected Regret of Alg 3\", color='g')\n",
    "ax2.set_ylabel(\"log n log log n\", color='b')\n",
    "plt.title(\"With m=%d fixed, Expected Regret for Random Walk\" % (m))\n",
    "#plt.legend()\n",
    "\n",
    "plt.show()"
   ]
  },
  {
   "cell_type": "code",
   "execution_count": null,
   "metadata": {},
   "outputs": [],
   "source": []
  }
 ],
 "metadata": {
  "kernelspec": {
   "display_name": "Python 3",
   "language": "python",
   "name": "python3"
  },
  "language_info": {
   "codemirror_mode": {
    "name": "ipython",
    "version": 3
   },
   "file_extension": ".py",
   "mimetype": "text/x-python",
   "name": "python",
   "nbconvert_exporter": "python",
   "pygments_lexer": "ipython3",
   "version": "3.8.3"
  }
 },
 "nbformat": 4,
 "nbformat_minor": 4
}
