{
 "cells": [
  {
   "cell_type": "code",
   "execution_count": 1,
   "metadata": {},
   "outputs": [],
   "source": [
    "import cvxpy as cp\n",
    "import numpy as np\n",
    "import matplotlib.pyplot as plt"
   ]
  },
  {
   "cell_type": "markdown",
   "metadata": {},
   "source": [
    "## Random input I"
   ]
  },
  {
   "cell_type": "code",
   "execution_count": 2,
   "metadata": {},
   "outputs": [],
   "source": [
    "# Make results deterministic for debugging\n",
    "np.random.seed(23)"
   ]
  },
  {
   "cell_type": "code",
   "execution_count": 3,
   "metadata": {},
   "outputs": [],
   "source": [
    "m = 4\n",
    "n = [25, 50, 100, 250, 500, 1000, 2000]\n",
    "n = 2000\n",
    "A = np.random.uniform(-0.5, 1, (m, n))\n",
    "pi = np.random.uniform(0, 10, n)\n",
    "\n",
    "#b = np.ones(m)\n",
    "d = 0.25\n",
    "b = np.ones(m)*d*n\n",
    "\n",
    "eps = 1/n"
   ]
  },
  {
   "cell_type": "markdown",
   "metadata": {},
   "source": [
    "## offline"
   ]
  },
  {
   "cell_type": "code",
   "execution_count": 4,
   "metadata": {},
   "outputs": [],
   "source": [
    "def getofflineSolution(A, pi, n, b):\n",
    "    x_opt = cp.Variable(n)\n",
    "\n",
    "    # Create constraints.\n",
    "    constraints = [A @ x_opt <= b,\n",
    "                   x_opt >= 0,\n",
    "                   x_opt <= 1]\n",
    "\n",
    "    # Form objective.\n",
    "    obj = cp.Maximize(pi @ x_opt)\n",
    "\n",
    "    # Form and solve problem\n",
    "    prob = cp.Problem(obj, constraints)\n",
    "    optObj = prob.solve()  \n",
    "    return optObj"
   ]
  },
  {
   "cell_type": "code",
   "execution_count": 5,
   "metadata": {},
   "outputs": [],
   "source": [
    "optObj = getofflineSolution(A, pi, n, b)"
   ]
  },
  {
   "cell_type": "markdown",
   "metadata": {},
   "source": [
    "Choose eps and delta such that \n",
    "r (for DLA) and L-1 (for algorithm 2) are in the same order of magnitude to compare the two algorithms fairly.\n",
    "\n",
    "From DLA we have:\n",
    "$$l = 2^r\\epsilon n \\quad\\text{for l < t}$$ \n",
    "\n",
    "if we take $\\epsilon = \\frac{1}{n}$ then $r = \\frac{log(l)}{log(2)}$ because we have l < n then \n",
    "$$r = \\bigg\\lfloor \\frac{log(n)}{log(2)} \\bigg\\rfloor$$\n",
    "\n",
    "From Algorithm 2 we have:\n",
    "$$\\big\\lfloor\\delta^L\\big\\rfloor = n $$\n",
    "\n",
    "We let r = L-1 then:\n",
    "\n",
    "$$\\Rightarrow \\delta = \\exp{\\bigg(\\frac{log(n)}{L}\\bigg)} + \\zeta$$\n",
    "\n",
    "This allows r and L-1 to be similar in magnitude, facilitating a fair comparison"
   ]
  },
  {
   "cell_type": "markdown",
   "metadata": {},
   "source": [
    "## DLA"
   ]
  },
  {
   "cell_type": "code",
   "execution_count": 6,
   "metadata": {},
   "outputs": [],
   "source": [
    "def solveDLADual(A, pi, l, m, n, eps):\n",
    "    a_up_to_t = A[:,:l]\n",
    "    pi_up_to_t = pi[:l]\n",
    "    p = cp.Variable(m)\n",
    "    y = cp.Variable(l)\n",
    "\n",
    "    # Create constraints.\n",
    "    constraints = [np.transpose(a_up_to_t)@p + y >= pi_up_to_t,\n",
    "                   p >= 0,\n",
    "                   y >= 0]\n",
    "\n",
    "    # Form objective.\n",
    "    obj = cp.Minimize(((1-eps*np.sqrt(n/l))*(l/n)*b @ p+ np.ones(l)@y))\n",
    "    # Form and solve problem\n",
    "    prob = cp.Problem(obj, constraints)\n",
    "    prob.solve()\n",
    "    return p.value"
   ]
  },
  {
   "cell_type": "code",
   "execution_count": 7,
   "metadata": {},
   "outputs": [],
   "source": [
    "def DLA(A, pi, m, n, b):\n",
    "    ## formulate as dual P and solved\n",
    "\n",
    "    x = np.zeros(n)\n",
    "    eps = 1/n\n",
    "    t0 = int(eps*n)\n",
    "\n",
    "    #p = constraints[0].dual_value\n",
    "    p_hat = solveDLADual(A, pi, t0, m, n, eps)\n",
    "\n",
    "    r_current = 0\n",
    "    l_current = 0\n",
    "    for t in range(t0+1,n):\n",
    "        r = np.floor(np.log(t) / np.log(2))\n",
    "\n",
    "        if r <= r_current:\n",
    "            x_hat = pi[t] > p_hat @ A[:,t]\n",
    "        else:\n",
    "            r_current = r\n",
    "            l_current = int((2**r_current)*eps*n) \n",
    "            # fields\n",
    "\n",
    "            #p = constraints[0].dual_value\n",
    "            p_hat = solveDLADual(A, pi, l_current, m, n, eps)\n",
    "            x_hat = pi[t] > p_hat @ A[:,t]\n",
    "\n",
    "        if np.all(A[:,t] * int(x_hat) <= b - A[:,:t]@x[:t]):\n",
    "            x[t] = int(x_hat)\n",
    "\n",
    "    return pi@x"
   ]
  },
  {
   "cell_type": "code",
   "execution_count": 8,
   "metadata": {},
   "outputs": [
    {
     "data": {
      "text/plain": [
       "60.09227193339393"
      ]
     },
     "execution_count": 8,
     "metadata": {},
     "output_type": "execute_result"
    }
   ],
   "source": [
    "optObj - DLA(A, pi, m, n, b)"
   ]
  },
  {
   "cell_type": "markdown",
   "metadata": {},
   "source": [
    "## Alg 2"
   ]
  },
  {
   "cell_type": "code",
   "execution_count": 9,
   "metadata": {},
   "outputs": [],
   "source": [
    "def Alg2(A, pi, m, n, d):\n",
    "    L = int(np.floor(np.log(n)/np.log(2))+1)\n",
    "    delta = np.exp(np.log(n)/L) + 1e-6\n",
    "\n",
    "    x = np.zeros(n)\n",
    "    for k in range(1,L):\n",
    "        t_k = int(np.floor(delta**k))\n",
    "        a_up_to_t = A[:,:t_k]\n",
    "        pi_up_to_t = pi[:t_k]\n",
    "\n",
    "        x_opt = cp.Variable(t_k)\n",
    "\n",
    "        # Create constraints.\n",
    "        constraints = [a_up_to_t @ x_opt <= t_k*d,\n",
    "                   x_opt >= 0,\n",
    "                   x_opt <= 1]\n",
    "        # Form objective.\n",
    "        obj = cp.Maximize(pi_up_to_t @ x_opt)\n",
    "\n",
    "        # Form and solve problem\n",
    "        prob = cp.Problem(obj, constraints)\n",
    "        prob.solve()\n",
    "        p = constraints[0].dual_value\n",
    "        for t in range(t_k+1, int(np.floor(delta**(k+1)))+1):\n",
    "            if  t==n:\n",
    "                return pi@x\n",
    "            x_hat = pi[t] > np.transpose(A[:,t])@p\n",
    "            if np.all(A[:,t] * int(x_hat) <= b - A[:,:t]@x[:t]):\n",
    "                x[t] = int(x_hat)\n",
    "\n",
    "    return pi@x"
   ]
  },
  {
   "cell_type": "code",
   "execution_count": 10,
   "metadata": {},
   "outputs": [
    {
     "data": {
      "text/plain": [
       "60.09227193339393"
      ]
     },
     "execution_count": 10,
     "metadata": {},
     "output_type": "execute_result"
    }
   ],
   "source": [
    "optObj - Alg2(A, pi, m, n, d)"
   ]
  },
  {
   "cell_type": "markdown",
   "metadata": {},
   "source": [
    "## Analyses"
   ]
  },
  {
   "cell_type": "code",
   "execution_count": 11,
   "metadata": {},
   "outputs": [],
   "source": [
    "np.random.seed(101)"
   ]
  },
  {
   "cell_type": "code",
   "execution_count": 12,
   "metadata": {},
   "outputs": [],
   "source": [
    "DLA_regret_res = dict()\n",
    "Alg2_regret_res = dict()\n",
    "DLA_remaining_resources = dict()\n",
    "Alg2_remaining_resources = dict()\n"
   ]
  },
  {
   "cell_type": "code",
   "execution_count": 13,
   "metadata": {},
   "outputs": [],
   "source": [
    "from tqdm import tqdm"
   ]
  },
  {
   "cell_type": "code",
   "execution_count": 14,
   "metadata": {},
   "outputs": [
    {
     "name": "stderr",
     "output_type": "stream",
     "text": [
      "100%|██████████| 7/7 [01:39<00:00, 14.28s/it]\n"
     ]
    }
   ],
   "source": [
    "m = 4\n",
    "ns = [25, 50, 100, 250, 500, 1000, 2000]\n",
    "#ns = 100\n",
    "b = np.ones(m)\n",
    "n_samples = 100\n",
    "for n in tqdm(ns):\n",
    "    eps = 1/n\n",
    "    DLA_regret = []\n",
    "    Alg2_regret = []\n",
    "    DLA_resources = []\n",
    "    Alg2_resources = []\n",
    "    for sim in range(n_samples):\n",
    "        A = np.random.uniform(-0.5, 1, (m, n))\n",
    "        pi = np.random.uniform(0, 10, n)\n",
    "        #d = b/n\n",
    "        d = np.ones(m) * 0.25\n",
    "        b = d*n\n",
    "        optObj = getofflineSolution(A, pi, n, b)\n",
    "        DLA_opt = DLA(A, pi, m, n, b)\n",
    "        Alg2_opt = Alg2(A, pi, m, n, d)\n",
    "        \n",
    "        DLA_regret.append(optObj - DLA_opt)\n",
    "        Alg2_regret.append(optObj - Alg2_opt)\n",
    "        \n",
    "    DLA_regret_res[n] = DLA_regret\n",
    "    Alg2_regret_res[n] = Alg2_regret \n",
    "    "
   ]
  },
  {
   "cell_type": "code",
   "execution_count": 15,
   "metadata": {},
   "outputs": [
    {
     "data": {
      "image/png": "[encoded data removed]",
      "text/plain": [
       "<Figure size 576x432 with 1 Axes>"
      ]
     },
     "metadata": {
      "needs_background": "light"
     },
     "output_type": "display_data"
    }
   ],
   "source": [
    "fig, ax = plt.subplots(figsize=(8,6))\n",
    "line1, = ax.plot(list(DLA_regret_res.keys()), list(([np.mean(DLA_regret_res[k]) for k in DLA_regret_res.keys()])), label = 'Average regret for DLA')\n",
    "line2, = ax.plot(list(Alg2_regret_res.keys()), list(([np.mean(Alg2_regret_res[k]) for k in Alg2_regret_res.keys()])), label = 'Average regret for Alg 2')\n",
    "ax.legend(handles=[line1, line2])\n",
    "plt.xlabel(\"n\")\n",
    "plt.ylabel(\"Regret\")\n",
    "plt.title(\"With m=%d fixed, Regret performance for DLA vs Alg 2\" % (m))\n",
    "plt.savefig(\"DLARegret\")\n",
    "plt.show()\n"
   ]
  }
 ],
 "metadata": {
  "kernelspec": {
   "display_name": "Python 3",
   "language": "python",
   "name": "python3"
  },
  "language_info": {
   "codemirror_mode": {
    "name": "ipython",
    "version": 3
   },
   "file_extension": ".py",
   "mimetype": "text/x-python",
   "name": "python",
   "nbconvert_exporter": "python",
   "pygments_lexer": "ipython3",
   "version": "3.8.1"
  }
 },
 "nbformat": 4,
 "nbformat_minor": 4
}
