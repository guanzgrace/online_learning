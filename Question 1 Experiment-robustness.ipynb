{
 "cells": [
  {
   "cell_type": "code",
   "execution_count": 1,
   "metadata": {},
   "outputs": [],
   "source": [
    "import cvxpy as cp\n",
    "import numpy as np\n",
    "import matplotlib.pyplot as plt\n",
    "import time"
   ]
  },
  {
   "cell_type": "markdown",
   "metadata": {},
   "source": [
    "# Set up variables"
   ]
  },
  {
   "cell_type": "code",
   "execution_count": 2,
   "metadata": {},
   "outputs": [],
   "source": [
    "# Problem data.\n",
    "m = 8\n",
    "n_values = [25, 50, 100, 250, 500, 1000]\n",
    "b = np.ones(m)"
   ]
  },
  {
   "cell_type": "code",
   "execution_count": 3,
   "metadata": {},
   "outputs": [],
   "source": [
    "# Number of times to solve the dual equation.\n",
    "num_dual_samples = 1000\n",
    "\n",
    "# Number of times to solve the stochastic equation.\n",
    "num_stoc_samples = 10**5"
   ]
  },
  {
   "cell_type": "code",
   "execution_count": 4,
   "metadata": {},
   "outputs": [],
   "source": [
    "# Set random seed for reproducability.\n",
    "\n",
    "np.random.seed(23)"
   ]
  },
  {
   "cell_type": "markdown",
   "metadata": {},
   "source": [
    "# Solve for the stochastic program"
   ]
  },
  {
   "cell_type": "code",
   "execution_count": 5,
   "metadata": {},
   "outputs": [
    {
     "name": "stdout",
     "output_type": "stream",
     "text": [
      "Stochastic Program Results\n",
      "\n",
      "With n=25, iteration completed in 3.33 s\n",
      "[3.47018361 3.60440378 3.49757671 3.49494223 3.54089082 3.60054291\n",
      " 3.58043596 3.62668028]\n",
      "\n",
      "With n=50, iteration completed in 7.04 s\n",
      "[4.50218203 4.62056572 4.60527359 4.54591714 4.63357121 4.58783448\n",
      " 4.73314006 4.70131174]\n",
      "\n",
      "With n=100, iteration completed in 14.89 s\n",
      "[5.90210873 5.89692588 5.82713287 5.74306472 5.82155358 5.79770519\n",
      " 5.87194697 5.72577685]\n"
     ]
    },
    {
     "name": "stderr",
     "output_type": "stream",
     "text": [
      "/opt/anaconda3/lib/python3.8/site-packages/cvxpy/problems/problem.py:1294: UserWarning: Solution may be inaccurate. Try another solver, adjusting the solver settings, or solve with verbose=True for more information.\n",
      "  warnings.warn(\n"
     ]
    },
    {
     "name": "stdout",
     "output_type": "stream",
     "text": [
      "\n",
      "With n=250, iteration completed in 25.44 s\n",
      "[7.10793603 7.40825902 7.375411   7.30782941 7.34646281 7.42978357\n",
      " 7.1612458  7.33080315]\n",
      "\n",
      "With n=500, iteration completed in 36.07 s\n",
      "[8.29183932 8.37757052 8.31529482 8.34767714 8.49039816 8.23702808\n",
      " 8.48124607 8.12506524]\n",
      "\n",
      "With n=1000, iteration completed in 46.53 s\n",
      "[9.27253814 9.10485725 9.28124482 9.15030622 9.40414258 9.12853445\n",
      " 9.42310861 9.31496553]\n"
     ]
    }
   ],
   "source": [
    "# Solve for the stochastic program.\n",
    "\n",
    "# This is deterministic.\n",
    "\n",
    "# From TA office hours: We cannot use the expectations\n",
    "# of A and pi instead of their samples of A and pi,\n",
    "# because we cannot exchange the function and inequality.\n",
    "# Therefore, we have to generate very many samples of A \n",
    "# and pi, and truly calculate the expectation.\n",
    "print(\"Stochastic Program Results\")\n",
    "\n",
    "# Create dictionary to store stochastic program results\n",
    "n_to_stochastic_p = dict()\n",
    "\n",
    "start = time.time()\n",
    "\n",
    "for n in n_values:\n",
    "    # Solve the stochastic problem.\n",
    "    d = b / n\n",
    "    \n",
    "    # Construct the stochastic problem.\n",
    "    p = cp.Variable(m)\n",
    "    \n",
    "    A = np.random.uniform(-0.5, 1, (m, num_stoc_samples))\n",
    "    pi = np.random.uniform(0, 10, num_stoc_samples)\n",
    "        \n",
    "    objective = cp.Minimize((d @ p) + (1/num_stoc_samples)*cp.sum(cp.maximum(0,pi - (np.transpose(A) @ p))))\n",
    "\n",
    "    constraints = [p >= 0]\n",
    "\n",
    "    prob = cp.Problem(objective, constraints)\n",
    "\n",
    "    # Solve the stochastic problem.\n",
    "    result = prob.solve()\n",
    "    now = time.time()\n",
    "    print(\"\\nWith n=%d, iteration completed in %.2f s\" % (n, now - start))\n",
    "    print(p.value)\n",
    "    \n",
    "    n_to_stochastic_p[n] = p.value\n",
    "    "
   ]
  },
  {
   "cell_type": "markdown",
   "metadata": {},
   "source": [
    "# Solve for the dual problem for various values of n"
   ]
  },
  {
   "cell_type": "code",
   "execution_count": 6,
   "metadata": {},
   "outputs": [
    {
     "name": "stdout",
     "output_type": "stream",
     "text": [
      "For n = 25\n",
      "Average of all dual solutions: [3.46373412 3.59897885 3.54730438 3.49929062 3.55825205 3.66550874\n",
      " 3.21276653 3.50909532]\n",
      "Expectation of L2 norm between p*n and p* is: 86.05\n",
      "m log m log log n / n for m=8 and n=25 is: 0.78\n",
      "Constant C is: 110.622\n",
      "\n",
      "For n = 50\n",
      "Average of all dual solutions: [4.88421408 4.80858017 4.63642416 4.82399445 4.7129947  4.69877138\n",
      " 4.79913588 4.67233957]\n",
      "Expectation of L2 norm between p*n and p* is: 83.92\n",
      "m log m log log n / n for m=8 and n=50 is: 0.45\n",
      "Constant C is: 184.903\n",
      "\n",
      "For n = 100\n",
      "Average of all dual solutions: [6.00705802 6.02931675 6.15362198 6.24937711 6.08664971 5.87197325\n",
      " 6.21891066 5.98678808]\n",
      "Expectation of L2 norm between p*n and p* is: 68.18\n",
      "m log m log log n / n for m=8 and n=100 is: 0.25\n",
      "Constant C is: 268.373\n",
      "\n",
      "For n = 250\n",
      "Average of all dual solutions: [7.74286896 7.83069975 7.71263483 7.73474459 7.72143692 7.83235839\n",
      " 7.78689376 7.74190926]\n",
      "Expectation of L2 norm between p*n and p* is: 47.29\n",
      "m log m log log n / n for m=8 and n=250 is: 0.11\n",
      "Constant C is: 415.890\n",
      "\n",
      "For n = 500\n",
      "Average of all dual solutions: [8.67515209 8.70855957 8.74374324 8.79433384 8.7581851  8.76186513\n",
      " 8.69368738 8.72422235]\n",
      "Expectation of L2 norm between p*n and p* is: 32.24\n",
      "m log m log log n / n for m=8 and n=500 is: 0.06\n",
      "Constant C is: 530.435\n",
      "\n",
      "For n = 1000\n",
      "Average of all dual solutions: [9.30904052 9.33743994 9.35110706 9.38253795 9.38011366 9.30468819\n",
      " 9.37955351 9.36551309]\n",
      "Expectation of L2 norm between p*n and p* is: 18.90\n",
      "m log m log log n / n for m=8 and n=1000 is: 0.03\n",
      "Constant C is: 588.001\n",
      "\n"
     ]
    }
   ],
   "source": [
    "# Create dictionaries to save results of simulations\n",
    "\n",
    "n_to_diffs = dict()\n",
    "n_to_mean_diffs = dict()\n",
    "n_to_log_factors = dict()\n",
    "n_to_C = dict()\n",
    "\n",
    "##########################################################\n",
    "# Solve the dual problem.\n",
    "    \n",
    "for n in n_values:\n",
    "    d = b / n\n",
    "    \n",
    "    # Create an array to store all of the simulations.\n",
    "    p_n_values = np.zeros((num_dual_samples, m))\n",
    "    \n",
    "    # Solve for one iteration of the offline dual optimal solution.\n",
    "    for i in range(num_dual_samples):\n",
    "        # Generate sample A_j and pi_j's (all at once in array)\n",
    "        A = np.random.uniform(-0.5, 1, (m, n))\n",
    "        pi = np.random.uniform(0, 10, n)\n",
    "\n",
    "        # Construct the stochastic problem.\n",
    "        p_n = cp.Variable(m)\n",
    "\n",
    "        # We could do the sum of up to t terms if this was truly online;\n",
    "        # however since this is offline we can use matrix operations.\n",
    "\n",
    "        objective = cp.Minimize((d @ p_n) + (1/n)*cp.sum(cp.maximum(0,pi - (np.transpose(A) @ p_n))))\n",
    "\n",
    "        constraints = [p_n >= 0]\n",
    "\n",
    "        prob = cp.Problem(objective, constraints)\n",
    "\n",
    "        # Solve the offline dual problem.\n",
    "        result = prob.solve()\n",
    "\n",
    "        p_n_values[i] = p_n.value\n",
    "        \n",
    "        \n",
    "    \n",
    "    # Compute the 2-norm difference from the stochastic solution\n",
    "    diffs = [np.linalg.norm(p_n_values[i]-n_to_stochastic_p[n], ord=2)**2 for i in range(num_dual_samples)]\n",
    "    \n",
    "    # Compute the log difference based on m and n\n",
    "    log_factor = m*np.log(m)*np.log(np.log(n))/n\n",
    "    \n",
    "    # Compute the coefficient C from dividing the mean of the differences by the log_factor\n",
    "    C = np.mean(diffs) / log_factor\n",
    "    \n",
    "    # Save all results to the dictionary\n",
    "    n_to_diffs[n] = diffs\n",
    "    n_to_mean_diffs[n] = np.mean(diffs)\n",
    "    n_to_log_factors[n] = log_factor\n",
    "    n_to_C[n] = C\n",
    "    \n",
    "    # Print results\n",
    "    print(\"For n = %d\" % (n))\n",
    "    print(\"Average of all dual solutions: %s\" % (np.mean(p_n_values, axis=0)))\n",
    "    print(\"Expectation of L2 norm between p*n and p* is: %.2f\" % (np.mean(diffs)))\n",
    "    print(\"m log m log log n / n for m=%d and n=%d is: %.2f\" % (m, n, log_factor))\n",
    "    print(\"Constant C is: %.3f\\n\" % (C))"
   ]
  },
  {
   "cell_type": "code",
   "execution_count": 7,
   "metadata": {},
   "outputs": [
    {
     "data": {
      "image/png": "[encoded data removed]",
      "text/plain": [
       "<Figure size 576x432 with 1 Axes>"
      ]
     },
     "metadata": {
      "needs_background": "light"
     },
     "output_type": "display_data"
    }
   ],
   "source": [
    "fig, ax = plt.subplots(figsize=(8,6))\n",
    "plt.plot(list(n_to_C.keys()), list(n_to_C.values()))\n",
    "plt.xlabel(\"n\")\n",
    "plt.ylabel(\"C\")\n",
    "plt.title(\"With m=%d fixed, C in the dual convergence result\" % (m))\n",
    "plt.show()"
   ]
  },
  {
   "cell_type": "code",
   "execution_count": 8,
   "metadata": {},
   "outputs": [
    {
     "data": {
      "image/png": "[encoded data removed]",
      "text/plain": [
       "<Figure size 576x432 with 1 Axes>"
      ]
     },
     "metadata": {
      "needs_background": "light"
     },
     "output_type": "display_data"
    }
   ],
   "source": [
    "fig, ax = plt.subplots(figsize=(8,6))\n",
    "plt.plot(list(n_to_diffs.keys()), list(n_to_mean_diffs.values()))\n",
    "plt.xlabel(\"n\")\n",
    "plt.ylabel(\"Expectation of L2 norm between p*n and p*\")\n",
    "plt.title(\"With m=%d fixed, E[|p*n - p*|^2] in the dual convergence result\" % (m))\n",
    "plt.show()"
   ]
  },
  {
   "cell_type": "code",
   "execution_count": null,
   "metadata": {},
   "outputs": [],
   "source": []
  }
 ],
 "metadata": {
  "kernelspec": {
   "display_name": "Python 3",
   "language": "python",
   "name": "python3"
  },
  "language_info": {
   "codemirror_mode": {
    "name": "ipython",
    "version": 3
   },
   "file_extension": ".py",
   "mimetype": "text/x-python",
   "name": "python",
   "nbconvert_exporter": "python",
   "pygments_lexer": "ipython3",
   "version": "3.8.3"
  }
 },
 "nbformat": 4,
 "nbformat_minor": 4
}
