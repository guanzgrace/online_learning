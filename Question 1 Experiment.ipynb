{
 "cells": [
  {
   "cell_type": "code",
   "execution_count": 1,
   "metadata": {},
   "outputs": [],
   "source": [
    "import cvxpy as cp\n",
    "import numpy as np\n",
    "import matplotlib.pyplot as plt\n",
    "import time"
   ]
  },
  {
   "cell_type": "markdown",
   "metadata": {},
   "source": [
    "# Set up variables"
   ]
  },
  {
   "cell_type": "code",
   "execution_count": 2,
   "metadata": {},
   "outputs": [],
   "source": [
    "# Problem data.\n",
    "m = 4\n",
    "n_values = [25, 50, 100, 250, 500]\n",
    "b = np.ones(m)"
   ]
  },
  {
   "cell_type": "code",
   "execution_count": 3,
   "metadata": {},
   "outputs": [],
   "source": [
    "# Number of times to solve the dual equation.\n",
    "num_dual_samples = 1000\n",
    "\n",
    "# Number of times to solve the stochastic equation.\n",
    "num_stoc_samples = 10**5"
   ]
  },
  {
   "cell_type": "code",
   "execution_count": 4,
   "metadata": {},
   "outputs": [],
   "source": [
    "# Set random seed for reproducability.\n",
    "\n",
    "np.random.seed(23)"
   ]
  },
  {
   "cell_type": "markdown",
   "metadata": {},
   "source": [
    "# Solve for the stochastic program"
   ]
  },
  {
   "cell_type": "code",
   "execution_count": 5,
   "metadata": {},
   "outputs": [
    {
     "name": "stdout",
     "output_type": "stream",
     "text": [
      "Stochastic Program Results\n"
     ]
    },
    {
     "name": "stderr",
     "output_type": "stream",
     "text": [
      "/opt/anaconda3/lib/python3.8/site-packages/cvxpy/problems/problem.py:1294: UserWarning: Solution may be inaccurate. Try another solver, adjusting the solver settings, or solve with verbose=True for more information.\n",
      "  warnings.warn(\n"
     ]
    },
    {
     "name": "stdout",
     "output_type": "stream",
     "text": [
      "\n",
      "With n=25, iteration completed in 7.13 s\n",
      "[5.61464231 5.55866378 5.65750216 5.59907295]\n",
      "\n",
      "With n=50, iteration completed in 9.87 s\n",
      "[7.11636956 7.146839   7.15639555 7.02369484]\n",
      "\n",
      "With n=100, iteration completed in 16.76 s\n",
      "[8.5344044  8.40814808 8.41289631 8.36962206]\n",
      "\n",
      "With n=250, iteration completed in 23.95 s\n",
      "[9.4364108  9.44627481 9.53572743 9.62103348]\n",
      "\n",
      "With n=500, iteration completed in 30.92 s\n",
      "[10.2421843  10.08808889 10.17312816 10.21785084]\n"
     ]
    }
   ],
   "source": [
    "# Solve for the stochastic program.\n",
    "\n",
    "# This is deterministic.\n",
    "\n",
    "# From TA office hours: We cannot use the expectations\n",
    "# of A and pi instead of their samples of A and pi,\n",
    "# because we cannot exchange the function and inequality.\n",
    "# Therefore, we have to generate very many samples of A \n",
    "# and pi, and truly calculate the expectation.\n",
    "print(\"Stochastic Program Results\")\n",
    "\n",
    "# Create dictionary to store stochastic program results\n",
    "n_to_stochastic_p = dict()\n",
    "\n",
    "start = time.time()\n",
    "\n",
    "for n in n_values:\n",
    "    # Solve the stochastic problem.\n",
    "    d = b / n\n",
    "    \n",
    "    # Construct the stochastic problem.\n",
    "    p = cp.Variable(m)\n",
    "    \n",
    "    A = np.random.uniform(-0.5, 1, (m, num_stoc_samples))\n",
    "    pi = np.random.uniform(0, 10, num_stoc_samples)\n",
    "        \n",
    "    objective = cp.Minimize((d @ p) + (1/num_stoc_samples)*cp.sum(cp.maximum(0,pi - (np.transpose(A) @ p))))\n",
    "\n",
    "    constraints = [p >= 0]\n",
    "\n",
    "    prob = cp.Problem(objective, constraints)\n",
    "\n",
    "    # Solve the stochastic problem.\n",
    "    result = prob.solve()\n",
    "    now = time.time()\n",
    "    print(\"\\nWith n=%d, iteration completed in %.2f s\" % (n, now - start))\n",
    "    print(p.value)\n",
    "    \n",
    "    n_to_stochastic_p[n] = p.value\n",
    "    "
   ]
  },
  {
   "cell_type": "markdown",
   "metadata": {},
   "source": [
    "# Solve for the dual problem for various values of n"
   ]
  },
  {
   "cell_type": "code",
   "execution_count": 6,
   "metadata": {},
   "outputs": [
    {
     "name": "stdout",
     "output_type": "stream",
     "text": [
      "For n = 25\n",
      "Average of all dual solutions: [5.72615753 5.49877575 5.69281135 5.82133744]\n",
      "Expectation of L2 norm between p*n and p* is: 57.59\n",
      "m log m log log n / n for m=4 and n=25 is: 0.26\n",
      "Constant C is: 222.103\n",
      "\n",
      "For n = 50\n",
      "Average of all dual solutions: [7.2097903  7.5597678  7.15523858 7.25048776]\n",
      "Expectation of L2 norm between p*n and p* is: 43.84\n",
      "m log m log log n / n for m=4 and n=50 is: 0.15\n",
      "Constant C is: 289.781\n",
      "\n",
      "For n = 100\n",
      "Average of all dual solutions: [8.69892941 8.57987792 8.61108518 8.58170504]\n",
      "Expectation of L2 norm between p*n and p* is: 30.31\n",
      "m log m log log n / n for m=4 and n=100 is: 0.08\n",
      "Constant C is: 357.884\n",
      "\n",
      "For n = 250\n",
      "Average of all dual solutions: [9.79324005 9.83101907 9.7942724  9.84844859]\n",
      "Expectation of L2 norm between p*n and p* is: 15.67\n",
      "m log m log log n / n for m=4 and n=250 is: 0.04\n",
      "Constant C is: 413.338\n",
      "\n",
      "For n = 500\n",
      "Average of all dual solutions: [10.2576391  10.31238082 10.28277453 10.31145702]\n",
      "Expectation of L2 norm between p*n and p* is: 8.52\n",
      "m log m log log n / n for m=4 and n=500 is: 0.02\n",
      "Constant C is: 420.639\n",
      "\n"
     ]
    }
   ],
   "source": [
    "# Create dictionaries to save results of simulations\n",
    "\n",
    "n_to_diffs = dict()\n",
    "n_to_mean_diffs = dict()\n",
    "n_to_log_factors = dict()\n",
    "n_to_C = dict()\n",
    "\n",
    "##########################################################\n",
    "# Solve the dual problem.\n",
    "    \n",
    "for n in n_values:\n",
    "    d = b / n\n",
    "    \n",
    "    # Create an array to store all of the simulations.\n",
    "    p_n_values = np.zeros((num_dual_samples, m))\n",
    "    \n",
    "    # Solve for one iteration of the offline dual optimal solution.\n",
    "    for i in range(num_dual_samples):\n",
    "        # Generate sample A_j and pi_j's (all at once in array)\n",
    "        A = np.random.uniform(-0.5, 1, (m, n))\n",
    "        pi = np.random.uniform(0, 10, n)\n",
    "\n",
    "        # Construct the stochastic problem.\n",
    "        p_n = cp.Variable(m)\n",
    "\n",
    "        # We could do the sum of up to t terms if this was truly online;\n",
    "        # however since this is offline we can use matrix operations.\n",
    "\n",
    "        objective = cp.Minimize((d @ p_n) + (1/n)*cp.sum(cp.maximum(0,pi - (np.transpose(A) @ p_n))))\n",
    "\n",
    "        constraints = [p_n >= 0]\n",
    "\n",
    "        prob = cp.Problem(objective, constraints)\n",
    "\n",
    "        # Solve the offline dual problem.\n",
    "        result = prob.solve()\n",
    "\n",
    "        p_n_values[i] = p_n.value\n",
    "        \n",
    "        \n",
    "    \n",
    "    # Compute the 2-norm difference from the stochastic solution\n",
    "    diffs = [np.linalg.norm(p_n_values[i]-n_to_stochastic_p[n], ord=2)**2 for i in range(num_dual_samples)]\n",
    "    \n",
    "    # Compute the log difference based on m and n\n",
    "    log_factor = m*np.log(m)*np.log(np.log(n))/n\n",
    "    \n",
    "    # Compute the coefficient C from dividing the mean of the differences by the log_factor\n",
    "    C = np.mean(diffs) / log_factor\n",
    "    \n",
    "    # Save all results to the dictionary\n",
    "    n_to_diffs[n] = diffs\n",
    "    n_to_mean_diffs[n] = np.mean(diffs)\n",
    "    n_to_log_factors[n] = log_factor\n",
    "    n_to_C[n] = C\n",
    "    \n",
    "    # Print results\n",
    "    print(\"For n = %d\" % (n))\n",
    "    print(\"Average of all dual solutions: %s\" % (np.mean(p_n_values, axis=0)))\n",
    "    print(\"Expectation of L2 norm between p*n and p* is: %.2f\" % (np.mean(diffs)))\n",
    "    print(\"m log m log log n / n for m=%d and n=%d is: %.2f\" % (m, n, log_factor))\n",
    "    print(\"Constant C is: %.3f\\n\" % (C))"
   ]
  },
  {
   "cell_type": "code",
   "execution_count": 7,
   "metadata": {},
   "outputs": [
    {
     "data": {
      "image/png": "[encoded data removed]",
      "text/plain": [
       "<Figure size 576x432 with 1 Axes>"
      ]
     },
     "metadata": {
      "needs_background": "light"
     },
     "output_type": "display_data"
    }
   ],
   "source": [
    "fig, ax = plt.subplots(figsize=(8,6))\n",
    "plt.plot(list(n_to_C.keys()), list(n_to_C.values()))\n",
    "plt.xlabel(\"n\")\n",
    "plt.ylabel(\"C\")\n",
    "plt.title(\"With m=%d fixed, C in the dual convergence result\" % (m))\n",
    "plt.show()"
   ]
  },
  {
   "cell_type": "code",
   "execution_count": 15,
   "metadata": {},
   "outputs": [
    {
     "data": {
      "image/png": "[encoded data removed]",
      "text/plain": [
       "<Figure size 576x432 with 1 Axes>"
      ]
     },
     "metadata": {
      "needs_background": "light"
     },
     "output_type": "display_data"
    }
   ],
   "source": [
    "fig, ax = plt.subplots(figsize=(8,6))\n",
    "plt.plot(list(n_to_diffs.keys()), list(n_to_mean_diffs.values()))\n",
    "plt.xlabel(\"n\")\n",
    "plt.ylabel(\"Expectation of L2 norm between p*n and p*\")\n",
    "plt.title(\"With m=%d fixed, E[|p*n - p*|^2] in the dual convergence result\" % (m))\n",
    "plt.show()"
   ]
  },
  {
   "cell_type": "code",
   "execution_count": 9,
   "metadata": {},
   "outputs": [
    {
     "data": {
      "image/png": "[encoded data removed]",
      "text/plain": [
       "<Figure size 576x432 with 1 Axes>"
      ]
     },
     "metadata": {
      "needs_background": "light"
     },
     "output_type": "display_data"
    }
   ],
   "source": [
    "x_axis = list(n_to_diffs.keys())\n",
    "y_axis = [m*np.log(m)*np.log(np.log(n))/n for n in x_axis]\n",
    "\n",
    "fig, ax = plt.subplots(figsize=(8,6))\n",
    "plt.plot(x_axis, y_axis)\n",
    "plt.xlabel(\"n\")\n",
    "plt.ylabel(\"m log m log log n / n\")\n",
    "plt.title(\"With m=%d fixed, m log m log log n / n\" % (m))\n",
    "plt.show()"
   ]
  }
 ],
 "metadata": {
  "kernelspec": {
   "display_name": "Python 3",
   "language": "python",
   "name": "python3"
  },
  "language_info": {
   "codemirror_mode": {
    "name": "ipython",
    "version": 3
   },
   "file_extension": ".py",
   "mimetype": "text/x-python",
   "name": "python",
   "nbconvert_exporter": "python",
   "pygments_lexer": "ipython3",
   "version": "3.8.3"
  }
 },
 "nbformat": 4,
 "nbformat_minor": 4
}
